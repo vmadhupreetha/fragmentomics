{
 "cells": [
  {
   "cell_type": "markdown",
   "source": [
    "There were suspicions that the range of values for different tracks (CAGE, ATAC-seq, DNAse and CHIP-seq) vary. If one track in general has higher values, then the predictions corresponding to this track may have a higher influence on the Deep Learning model's predictions. To assess whether this is the case, this file has code to plot the Enformer predictions, split by the four track types for ~ 1300 samples."
   ],
   "metadata": {
    "collapsed": false
   }
  },
  {
   "cell_type": "code",
   "execution_count": 1,
   "metadata": {},
   "outputs": [],
   "source": [
    "import pandas as pd\n",
    "import numpy as np\n",
    "import h5py\n",
    "import seaborn as sns\n",
    "import matplotlib.pyplot as plt"
   ]
  },
  {
   "cell_type": "code",
   "execution_count": 2,
   "metadata": {},
   "outputs": [
    {
     "name": "stderr",
     "output_type": "stream",
     "text": [
      "/scratch/27570911/ipykernel_68644/1333969885.py:7: SettingWithCopyWarning: \n",
      "A value is trying to be set on a copy of a slice from a DataFrame\n",
      "\n",
      "See the caveats in the documentation: https://pandas.pydata.org/pandas-docs/stable/user_guide/indexing.html#returning-a-view-versus-a-copy\n",
      "  df[\"description\"][i] = type\n"
     ]
    },
    {
     "name": "stdout",
     "output_type": "stream",
     "text": [
      "674\n",
      "3991\n",
      "10\n",
      "638\n"
     ]
    }
   ],
   "source": [
    "targets_txt = 'https://raw.githubusercontent.com/calico/basenji/master/manuscripts/cross2020/targets_human.txt'\n",
    "df = pd.read_csv(targets_txt, sep='\\t')\n",
    "\n",
    "for i in range(0, len(df)):\n",
    "    description = df[\"description\"][i]\n",
    "    type = description.split(':')[0]\n",
    "    df[\"description\"][i] = type\n",
    "\n",
    "dnaseList = df.index[df['description'] == \"DNASE\"].tolist()\n",
    "chipList = df.index[df[\"description\"] == \"CHIP\"].tolist()\n",
    "atacList = df.index[df[\"description\"] == \"ATAC\"].tolist()\n",
    "cageList = df.index[df[\"description\"] == \"CAGE\"].tolist()\n",
    "print(len(dnaseList))\n",
    "print(len(chipList))\n",
    "print(len(atacList))\n",
    "print(len(cageList))"
   ]
  },
  {
   "cell_type": "code",
   "execution_count": 3,
   "metadata": {},
   "outputs": [
    {
     "name": "stdout",
     "output_type": "stream",
     "text": [
      "shape of flattened numpy array for type DNASE is (1710612,)\n",
      "shape of flattened numpy array for type CHIP is (10129158,)\n",
      "shape of flattened numpy array for type ATAC is (25380,)\n",
      "shape of flattened numpy array for type CAGE is (1619244,)\n",
      "(13484394, 2)\n"
     ]
    },
    {
     "data": {
      "text/html": [
       "<div>\n",
       "<style scoped>\n",
       "    .dataframe tbody tr th:only-of-type {\n",
       "        vertical-align: middle;\n",
       "    }\n",
       "\n",
       "    .dataframe tbody tr th {\n",
       "        vertical-align: top;\n",
       "    }\n",
       "\n",
       "    .dataframe thead th {\n",
       "        text-align: right;\n",
       "    }\n",
       "</style>\n",
       "<table border=\"1\" class=\"dataframe\">\n",
       "  <thead>\n",
       "    <tr style=\"text-align: right;\">\n",
       "      <th></th>\n",
       "      <th>enformerOutput</th>\n",
       "      <th>type</th>\n",
       "    </tr>\n",
       "  </thead>\n",
       "  <tbody>\n",
       "    <tr>\n",
       "      <th>0</th>\n",
       "      <td>0.004409</td>\n",
       "      <td>DNASE</td>\n",
       "    </tr>\n",
       "    <tr>\n",
       "      <th>1</th>\n",
       "      <td>0.004229</td>\n",
       "      <td>DNASE</td>\n",
       "    </tr>\n",
       "    <tr>\n",
       "      <th>2</th>\n",
       "      <td>0.007569</td>\n",
       "      <td>DNASE</td>\n",
       "    </tr>\n",
       "    <tr>\n",
       "      <th>3</th>\n",
       "      <td>0.003659</td>\n",
       "      <td>DNASE</td>\n",
       "    </tr>\n",
       "    <tr>\n",
       "      <th>4</th>\n",
       "      <td>0.004809</td>\n",
       "      <td>DNASE</td>\n",
       "    </tr>\n",
       "    <tr>\n",
       "      <th>5</th>\n",
       "      <td>0.005566</td>\n",
       "      <td>DNASE</td>\n",
       "    </tr>\n",
       "    <tr>\n",
       "      <th>6</th>\n",
       "      <td>0.004260</td>\n",
       "      <td>DNASE</td>\n",
       "    </tr>\n",
       "    <tr>\n",
       "      <th>7</th>\n",
       "      <td>0.005867</td>\n",
       "      <td>DNASE</td>\n",
       "    </tr>\n",
       "    <tr>\n",
       "      <th>8</th>\n",
       "      <td>0.004243</td>\n",
       "      <td>DNASE</td>\n",
       "    </tr>\n",
       "    <tr>\n",
       "      <th>9</th>\n",
       "      <td>0.005427</td>\n",
       "      <td>DNASE</td>\n",
       "    </tr>\n",
       "  </tbody>\n",
       "</table>\n",
       "</div>"
      ],
      "text/plain": [
       "   enformerOutput   type\n",
       "0        0.004409  DNASE\n",
       "1        0.004229  DNASE\n",
       "2        0.007569  DNASE\n",
       "3        0.003659  DNASE\n",
       "4        0.004809  DNASE\n",
       "5        0.005566  DNASE\n",
       "6        0.004260  DNASE\n",
       "7        0.005867  DNASE\n",
       "8        0.004243  DNASE\n",
       "9        0.005427  DNASE"
      ]
     },
     "execution_count": 3,
     "metadata": {},
     "output_type": "execute_result"
    }
   ],
   "source": [
    "filepath = \"/hpc/compgen/projects/fragclass/analysis/mvivekanandan/output/enformer_output_training_1269.hdf5\" \n",
    "\n",
    "def getTypeAssignedDf(indicesList, outputType):\n",
    "    #Since outputs from 2 bins are concatenated, the same type of output occurs twice with a gap of 5313. \n",
    "    with h5py.File(filepath, 'r') as f:\n",
    "        set1 = f[\"trainingEnformerOutput\"][:, indicesList[0] : indicesList[-1] + 1]\n",
    "        set2 = f[\"trainingEnformerOutput\"][:, indicesList[0] + 5313 : indicesList[-1]+ 5314]\n",
    "    \n",
    "    flattedNumpyOutput = np.concatenate((set1, set2), axis = 1).flatten()\n",
    "    print(f\"shape of flattened numpy array for type {outputType} is {flattedNumpyOutput.shape}\")\n",
    "    typeDf = pd.DataFrame(flattedNumpyOutput, columns = ['enformerOutput'])\n",
    "    typeDf = typeDf.assign(type=outputType)\n",
    "    return typeDf\n",
    "\n",
    "dnaseDf = getTypeAssignedDf(dnaseList, \"DNASE\")\n",
    "chipDf = getTypeAssignedDf(chipList, \"CHIP\")\n",
    "atacDf = getTypeAssignedDf(atacList, \"ATAC\")\n",
    "cageDf = getTypeAssignedDf(cageList, \"CAGE\")\n",
    "\n",
    "df1 = pd.concat([dnaseDf, chipDf])\n",
    "df2 = pd.concat([atacDf, cageDf])\n",
    "finalDf = pd.concat([df1, df2])\n",
    "print(finalDf.shape)\n",
    "finalDf.head(10)"
   ]
  },
  {
   "cell_type": "code",
   "execution_count": 4,
   "metadata": {},
   "outputs": [
    {
     "data": {
      "text/plain": [
       "<AxesSubplot: xlabel='enformerOutput', ylabel='type'>"
      ]
     },
     "execution_count": 4,
     "metadata": {},
     "output_type": "execute_result"
    },
    {
     "data": {
      "image/png": "[encoded data removed]",
      "text/plain": [
       "<Figure size 700x600 with 1 Axes>"
      ]
     },
     "metadata": {},
     "output_type": "display_data"
    }
   ],
   "source": [
    "sns.set_theme(style=\"ticks\")\n",
    "\n",
    "# Initialize the figure with a logarithmic x axis\n",
    "f, ax = plt.subplots(figsize=(7, 6))\n",
    "\n",
    "# Plot the orbital period with horizontal boxes\n",
    "sns.boxplot(x=\"enformerOutput\", y=\"type\", data=finalDf, width=.6, color=\"skyblue\", palette=\"Blues\")\n",
    "\n",
    "# Add in points to show each observation\n",
    "sns.stripplot(x=\"enformerOutput\", y=\"type\", data=finalDf,\n",
    "              size=4, color=\".3\", linewidth=0)"
   ]
  },
  {
   "cell_type": "code",
   "execution_count": null,
   "metadata": {},
   "outputs": [],
   "source": []
  }
 ],
 "metadata": {
  "kernelspec": {
   "display_name": "Python [conda env:fragenv] *",
   "language": "python",
   "name": "conda-env-fragenv-py"
  },
  "orig_nbformat": 4
 },
 "nbformat": 4,
 "nbformat_minor": 2
}
