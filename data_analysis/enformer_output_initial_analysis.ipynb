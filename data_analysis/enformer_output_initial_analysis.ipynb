{
 "cells": [
  {
   "cell_type": "code",
   "execution_count": 1,
   "metadata": {},
   "outputs": [],
   "source": [
    "import numpy as np\n",
    "import pandas as pd\n",
    "\n",
    "import h5py\n",
    "\n",
    "import seaborn as sns\n",
    "import matplotlib.pyplot as plt\n",
    "\n",
    "from sklearn.preprocessing import StandardScaler\n",
    "from sklearn.decomposition import PCA\n",
    "\n",
    "import math\n",
    "import random\n",
    "import os\n",
    "\n",
    "from sklearn.linear_model import LogisticRegression\n",
    "from sklearn.model_selection import train_test_split\n",
    "from sklearn.metrics import accuracy_score\n",
    "from sklearn.metrics import classification_report\n",
    "from sklearn.metrics import confusion_matrix\n",
    "from sklearn.metrics import roc_curve\n",
    "from sklearn.metrics import roc_auc_score\n",
    "from sklearn.manifold import TSNE"
   ]
  },
  {
   "cell_type": "markdown",
   "metadata": {},
   "source": [
    "**Get the enformer output samples from plotting**"
   ]
  },
  {
   "cell_type": "code",
   "execution_count": 2,
   "metadata": {},
   "outputs": [
    {
     "name": "stdout",
     "output_type": "stream",
     "text": [
      "(202609, 10626)\n"
     ]
    }
   ],
   "source": [
    "enformerOutputFile = \"/hpc/compgen/projects/fragclass/analysis/mvivekanandan/output/EnformerOutputs/enformer_output_validation_class_balanced.hdf5\"\n",
    "with h5py.File(enformerOutputFile, 'r') as f:\n",
    "    samples = f[\"validationEnformerOutput\"][:]\n",
    "    print(samples.shape)"
   ]
  },
  {
   "cell_type": "markdown",
   "metadata": {},
   "source": [
    "**Split the Enformer output samples into donors and recipients**"
   ]
  },
  {
   "cell_type": "code",
   "execution_count": 3,
   "metadata": {},
   "outputs": [
    {
     "name": "stdout",
     "output_type": "stream",
     "text": [
      "Shape of averaged outputs = (25000, 5313) and (25000, 5313)\n"
     ]
    }
   ],
   "source": [
    "with h5py.File(enformerOutputFile, 'r') as f:\n",
    "    labels = f[\"validationLabels\"][:]\n",
    "    recip_indices = np.where(labels == 1)[0]\n",
    "    donor_indices = np.where(labels == 0)[0]\n",
    "\n",
    "donors = samples[donor_indices][0:25000]\n",
    "recips = samples[recip_indices][0:25000]\n",
    "\n",
    "bin_1_donors = donors[:, 0:5313]\n",
    "bin_2_donors = donors[:, 5313: 10626]\n",
    "averaged_donors = bin_1_donors + bin_2_donors\n",
    "\n",
    "bin_1_recips = recips[:, 0:5313]\n",
    "bin_2_recips = recips[:, 5313: 10626]\n",
    "averaged_recips = bin_1_recips + bin_2_recips\n",
    "print(f\"Shape of averaged outputs = {averaged_donors.shape} and {averaged_donors.shape}\")"
   ]
  },
  {
   "cell_type": "code",
   "execution_count": 4,
   "metadata": {},
   "outputs": [
    {
     "name": "stdout",
     "output_type": "stream",
     "text": [
      "(50000, 5315)\n"
     ]
    }
   ],
   "source": [
    "#add target_name and target columns in the df to specify the class type \n",
    "num_donors = len(averaged_donors)\n",
    "num_recips = len(averaged_donors)\n",
    "\n",
    "#Get scaled DF of donors and recipients for plotting. \n",
    "combined_samples = np.vstack((averaged_donors, averaged_donors))\n",
    "num_tracks = combined_samples.shape[1]\n",
    "\n",
    "columnNames = []\n",
    "for i in range(1, num_tracks+1):\n",
    "    columnNames.append(\"EnformerTrack\" + str(i))\n",
    "\n",
    "donor_recip_enformer_tracks_df = pd.DataFrame(combined_samples, columns = columnNames)\n",
    "donor_recip_enformer_tracks_df_scaled = StandardScaler().fit_transform(donor_recip_enformer_tracks_df)\n",
    "\n",
    "enformer_tracks_scaled_df = pd.DataFrame(donor_recip_enformer_tracks_df_scaled, columns = columnNames)\n",
    "\n",
    "enformer_tracks_scaled_df.loc[0:num_donors-1, \"target\"] = 1\n",
    "enformer_tracks_scaled_df.loc[0:num_donors-1, \"target_name\"] = \"donor\"\n",
    "enformer_tracks_scaled_df.loc[num_donors:num_donors + num_recips - 1, \"target\"] = 0\n",
    "enformer_tracks_scaled_df.loc[num_donors:num_donors + num_recips -1, \"target_name\"] = \"recipient\"\n",
    "print(enformer_tracks_scaled_df.shape)"
   ]
  },
  {
   "cell_type": "markdown",
   "metadata": {},
   "source": [
    "**Get the PCA data for plotting - numbers for each of the PC aces etc**"
   ]
  },
  {
   "cell_type": "code",
   "execution_count": 5,
   "metadata": {},
   "outputs": [],
   "source": [
    "\"\"\"\n",
    "all_donor_samples and all_recip_samples are 2D numpy arrays. \n",
    "Given all donor and recipient samples (all the donors first and recipients second), it returns a PCA df. The components \n",
    "in the PCA df = n_components specified. The method already takes care of adding a column(target_name) in the PCA df specifying if\n",
    "the entry is a donor or recipient. \n",
    "\"\"\"\n",
    "\n",
    "def getPcaDataForPlotting(n_components, pcaColumnNames, all_donor_samples, all_recip_samples, num_donor_samples = False, num_recip_samples = False, plotPcaExplainedVariance = False):\n",
    "    num_donor_samples = all_donor_samples.shape[0]\n",
    "    num_recip_samples = all_recip_samples.shape[0]\n",
    "    combined_samples = np.vstack((all_donor_samples, all_recip_samples))\n",
    "    num_tracks = combined_samples.shape[1]\n",
    "\n",
    "    columnNames = []\n",
    "    for i in range(1, num_tracks+1):\n",
    "        columnNames.append(\"EnformerTrack\" + str(i))\n",
    "\n",
    "    donor_recip_enformer_tracks_df = pd.DataFrame(combined_samples, columns = columnNames)\n",
    "    donor_recip_enformer_tracks_df_scaled = StandardScaler().fit_transform(donor_recip_enformer_tracks_df)\n",
    "\n",
    "    pca = PCA(n_components)\n",
    "\n",
    "    #This will create a numpy array with only 3 columns inplace of 10626 columns \n",
    "    pca_features = pca.fit_transform(donor_recip_enformer_tracks_df_scaled)\n",
    "\n",
    "    pca_df = pd.DataFrame(data = pca_features, columns = pcaColumnNames)\n",
    "\n",
    "    #Set target and target names in the PCA df \n",
    "    pca_df.loc[0:num_donor_samples-1, \"target\"] = 1\n",
    "    pca_df.loc[0:num_donor_samples-1, \"target_name\"] = \"donor\"\n",
    "    pca_df.loc[num_donor_samples:num_donor_samples + num_recip_samples - 1, \"target\"] = 0\n",
    "    pca_df.loc[num_donor_samples:num_donor_samples + num_recip_samples -1, \"target_name\"] = \"recipient\"\n",
    "    return pca, pca_df"
   ]
  },
  {
   "cell_type": "markdown",
   "metadata": {},
   "source": [
    "**Call functions for getting PCA data for the given Enformer output samples**"
   ]
  },
  {
   "cell_type": "code",
   "execution_count": 6,
   "metadata": {},
   "outputs": [],
   "source": [
    "#Get 100 PCs for the Enformer tracks data\n",
    "pca_df_column_names = []\n",
    "for i in range(1, 101):\n",
    "    pca_df_column_names.append(\"PC\" + str(i))\n",
    "\n",
    "pca, pca_df = getPcaDataForPlotting(100, pca_df_column_names, donors, recips, False, False, False)\n",
    "# pca_df.head(10)"
   ]
  },
  {
   "cell_type": "code",
   "execution_count": 14,
   "metadata": {},
   "outputs": [],
   "source": [
    "#Get 100 PCs for the Enformer tracks data\n",
    "pca_df_column_names = []\n",
    "for i in range(1, 10627):\n",
    "    pca_df_column_names.append(\"PC\" + str(i))\n",
    "\n",
    "pca_10626, pca_df_10626 = getPcaDataForPlotting(10626, pca_df_column_names, donors, recips, False, False, False)\n",
    "# pca_df.head(10)"
   ]
  },
  {
   "cell_type": "code",
   "execution_count": 13,
   "metadata": {},
   "outputs": [
    {
     "data": {
      "text/plain": [
       "0.9944834"
      ]
     },
     "execution_count": 13,
     "metadata": {},
     "output_type": "execute_result"
    }
   ],
   "source": [
    "np.sum(pca_10626.explained_variance_ratio_)"
   ]
  },
  {
   "cell_type": "code",
   "execution_count": 7,
   "metadata": {},
   "outputs": [],
   "source": [
    "def plotPcaExplainedVarianceBarGraph(pca):\n",
    "    n_features = range(pca.n_components_)\n",
    "    plt.bar(n_features, pca.explained_variance_ratio_, color='black')\n",
    "    plt.xlabel('PCA features')\n",
    "    plt.ylabel('variance %')\n",
    "    plt.xticks(n_features)\n",
    "\n",
    "def plotPcaData3D(pca, pca_df, columnNames, plotPcaExplainedVariance):\n",
    "    if(plotPcaExplainedVariance):\n",
    "        plotPcaExplainedVarianceBarGraph(pca)\n",
    "\n",
    "    x = pca_df[columnNames[0]]\n",
    "    y = pca_df[columnNames[1]]\n",
    "\n",
    "    col_1_variance = round(pca.explained_variance_ratio_[0], 2)\n",
    "    col_2_variance = round(pca.explained_variance_ratio_[1], 2)\n",
    "    col_3_variance = round(pca.explained_variance_ratio_[2], 2)\n",
    "\n",
    "    fig = plt.figure()\n",
    "\n",
    "    ax = fig.add_subplot(111, projection = \"3d\")\n",
    "\n",
    "    ax.set_xlabel(columnNames[0] + \"(\" + str(col_1_variance) + \")\")\n",
    "    ax.set_ylabel(columnNames[1] + \"(\" + str(col_2_variance) + \")\")\n",
    "    ax.set_zlabel(columnNames[2] + \"(\" + str(col_3_variance) + \")\")\n",
    "\n",
    "    donor_pca = pca_df.loc[pca_df['target_name'] == \"donor\"]\n",
    "    z = donor_pca[columnNames[2]]\n",
    "    x = donor_pca[columnNames[0]]\n",
    "    y = donor_pca[columnNames[1]]\n",
    "    \n",
    "    plt.scatter(x, y, z, color='red')\n",
    "\n",
    "    recip_pca = pca_df.loc[pca_df['target_name'] == \"recipient\"]\n",
    "    z = recip_pca[columnNames[2]]\n",
    "    x = recip_pca[columnNames[0]]\n",
    "    y = recip_pca[columnNames[1]]\n",
    "    \n",
    "    plt.scatter(x, y, z, color='blue')\n",
    "\n",
    "    plt.title(f\"3D PCA graph of enformer outputs : {len(pca_df)} samples\")\n",
    "    plt.show()\n",
    "\n",
    "def plotPcaData2d(pca, pca_df, columnNames, plotPcaExplainedVariance):\n",
    "    if(plotPcaExplainedVariance):\n",
    "        plotPcaExplainedVarianceBarGraph(pca)\n",
    "\n",
    "    x = pca_df[columnNames[0]]\n",
    "    y = pca_df[columnNames[1]]\n",
    "\n",
    "    col_1_variance = round(pca.explained_variance_ratio_[0], 2)\n",
    "    col_2_variance = round(pca.explained_variance_ratio_[1], 2)\n",
    "\n",
    "    fig = plt.figure()\n",
    "    ax = fig.add_subplot(111)\n",
    "    ax.set_xlabel(columnNames[0] + \" (\" + str(col_1_variance) + \"%)\")\n",
    "    ax.set_ylabel(columnNames[1] + \" (\" + str(col_2_variance) + \"%)\")\n",
    "\n",
    "    donor_pca = pca_df.loc[pca_df['target_name'] == \"donor\"]\n",
    "    x = donor_pca[columnNames[0]]\n",
    "    y = donor_pca[columnNames[1]]\n",
    "    \n",
    "    plt.scatter(x, y, color='red', label='Donor', alpha = 0.3) #Make the points transparent so they don't completely overlap and hide each other \n",
    "\n",
    "    recip_pca = pca_df.loc[pca_df['target_name'] == \"recipient\"]\n",
    "    x = recip_pca[columnNames[0]]\n",
    "    y = recip_pca[columnNames[1]]\n",
    "    \n",
    "    plt.scatter(x, y, color='blue', label='Recipient', alpha = 0.4)\n",
    "    plt.legend(loc='best')\n",
    "    plt.title(f\"PCA plot of Enformer tracks\")\n",
    "    plt.show()\n",
    "\n",
    "def pcaSeabornJointPlot2d(pca, pca_df, columnNames, title = \"PCA plot of Enformer tracks\"):\n",
    "        col_1_variance = round(pca.explained_variance_ratio_[0], 2)\n",
    "        col_2_variance = round(pca.explained_variance_ratio_[1], 2)\n",
    "\n",
    "        xlabel = columnNames[0] + \" (\" + str(col_1_variance) + \"%)\"\n",
    "        ylabel = columnNames[1] + \" (\" + str(col_2_variance) + \"%)\"\n",
    "\n",
    "        sns.jointplot(data=pca_df, x=columnNames[0], y=columnNames[1], hue=\"target_name\")\n",
    "        plt.xlabel(xlabel)\n",
    "        plt.ylabel(ylabel)\n",
    "        plt.legend(loc='best')\n",
    "        # plt.title(title, y = 1.2)\n",
    "        plt.show()"
   ]
  },
  {
   "cell_type": "code",
   "execution_count": 20,
   "metadata": {},
   "outputs": [
    {
     "name": "stdout",
     "output_type": "stream",
     "text": [
      "50000\n"
     ]
    },
    {
     "data": {
      "image/png": "[encoded data removed]",
      "text/plain": [
       "<Figure size 600x600 with 3 Axes>"
      ]
     },
     "metadata": {},
     "output_type": "display_data"
    }
   ],
   "source": [
    "#Seaborn joint distribution plot of 2 most significant PC axes from 100\n",
    "pc_column_names = [\"PC1\", \"PC2\"]\n",
    "shuffled_pca_df = pca_df.sample(frac=1).reset_index(drop=True)\n",
    "print(len(shuffled_pca_df))\n",
    "pcaSeabornJointPlot2d(pca, shuffled_pca_df, pc_column_names)"
   ]
  },
  {
   "cell_type": "code",
   "execution_count": null,
   "metadata": {},
   "outputs": [],
   "source": [
    "#Scatter plot of 2 most significant components out of 100 \n",
    "pc_column_names = [\"PC1\", \"PC2\"]\n",
    "plotPcaData2d(pca, pca_df, pc_column_names, True)"
   ]
  },
  {
   "cell_type": "code",
   "execution_count": null,
   "metadata": {},
   "outputs": [],
   "source": [
    "#Get only 2 PCs from the Enformer track data and make a seaborn joint distribution plot of those two. \n",
    "pca_df_column_names = [\"PC1\", \"PC2\"]\n",
    "pca_2_axes, pca_df_2_axes = getPcaDataForPlotting(2, pca_df_column_names, donors, recips, False, False, False)\n",
    "\n",
    "print(pca_df_2_axes.head(10))\n",
    "print(pca_2_axes.explained_variance_ratio_)\n",
    "pcaSeabornJointPlot2d(pca_2_axes, pca_df_2_axes, pca_df_column_names)"
   ]
  },
  {
   "cell_type": "markdown",
   "metadata": {},
   "source": [
    "**Get Enformer track indices for a particular cell type and "
   ]
  },
  {
   "cell_type": "markdown",
   "metadata": {},
   "source": [
    "**Get Enformer track indices corresponding to the given cell types and the track type**"
   ]
  },
  {
   "cell_type": "code",
   "execution_count": 8,
   "metadata": {},
   "outputs": [],
   "source": [
    "def getEnformerTrackIndices(track_type, cell_type):\n",
    "    allowed_cell_types = [\"lung\", \"blood\"]\n",
    "    if(cell_type not in allowed_cell_types):\n",
    "        print(f\"Cell type should be lung or blood\")\n",
    "        return\n",
    "    \n",
    "    allowed_track_types = [\"CAGE\", \"DNASE\", \"CHIP\", \"ATAC\"]\n",
    "    if(track_type not in allowed_track_types):\n",
    "        print(f\"track type should be one of {allowed_track_types}\")\n",
    "        return\n",
    "\n",
    "    #Get the indices for tracks from the 5313 tracks have \"lung\" in the description\n",
    "    targets_txt = 'https://raw.githubusercontent.com/calico/basenji/master/manuscripts/cross2020/targets_human.txt'\n",
    "    df = pd.read_csv(targets_txt, sep='\\t')\n",
    "\n",
    "    new_df = pd.DataFrame()\n",
    "\n",
    "    #Create a new df with only the index column and description col from prev df. Split the df into exp_type and cell_type_desc columns \n",
    "    for i in range(0, len(df)):\n",
    "        description = df[\"description\"][i]\n",
    "        exp_type = description.split(':', 1)[0]\n",
    "        cell_type_desc = description.split(':', 1)[1]\n",
    "\n",
    "        new_df.loc[i, \"index\"] = df[\"index\"][i]\n",
    "        new_df.loc[i, \"expt_type\"] = exp_type\n",
    "        new_df.loc[i, \"cell_type_desc\"] = cell_type_desc\n",
    "\n",
    "    if(cell_type == \"lung\"):\n",
    "        indices = new_df.index[new_df['cell_type_desc'].str.contains(cell_type) & new_df[\"expt_type\"].str.contains(track_type)].tolist()\n",
    "        print(f\"Cell type is lung and indices are {indices}\")\n",
    "    else:\n",
    "        blood_cell_type_search_strings = [\"Basophils\", \"Eosinophils\", \"monocyte\", \"T-cell\", \"erythro\", \"hematopoietic\", \"B-cell\", \"granulocyte\"]\n",
    "        indices = []\n",
    "        for blood_cell in blood_cell_type_search_strings:\n",
    "            cell_type_indices = new_df.index[new_df[\"cell_type_desc\"].str.contains(blood_cell) & new_df[\"expt_type\"].str.contains(track_type).tolist()]\n",
    "            indices.extend(cell_type_indices)\n",
    "\n",
    "        print(f\"Cell type is blood and indices are {indices}\")\n",
    "    \n",
    "    return indices"
   ]
  },
  {
   "cell_type": "markdown",
   "metadata": {},
   "source": [
    "**Make a seaborn joint plot of one lung and one blood cell Enformer track for donors and recipients**"
   ]
  },
  {
   "cell_type": "code",
   "execution_count": null,
   "metadata": {},
   "outputs": [],
   "source": [
    "#Plot only one lung DNAse track with one Tcell DNAse track \n",
    "lung_dnase_indices = getEnformerTrackIndices(\"DNASE\", \"lung\")\n",
    "blood_dnase_indices = getEnformerTrackIndices(\"DNASE\", \"blood\")\n",
    "\n",
    "#Get donor samples for indices and dataframes from samples for these indices - With lung and tcell columns\n",
    "donors = samples[donor_indices]\n",
    "lung_col_name = f\"lung microvascular endothelial cell female DNASE Enformer track\"\n",
    "blood_col_name = f\"CD14-positive monocyte female DNASE Enformer track\"\n",
    "\n",
    "donor_lung_dnase = donors[:, lung_dnase_indices[0]]\n",
    "donor_tcell_dnase = donors[:, blood_dnase_indices[0]]\n",
    "\n",
    "donor_lung_tcell_df = pd.DataFrame(donor_lung_dnase, columns = [lung_col_name])\n",
    "donor_lung_tcell_df[blood_col_name] = donor_tcell_dnase\n",
    "donor_lung_tcell_df[\"class_type\"] = \"donor\"\n",
    "\n",
    "#Get recip samples for indices and dataframes from samples for these indices - With lung and tcell columns\n",
    "recip_lung_dnase = recips[:, lung_dnase_indices[0]]\n",
    "recip_tcell_dnase = recips[:, blood_dnase_indices[0]]\n",
    "\n",
    "recip_lung_tcell_df = pd.DataFrame(recip_lung_dnase, columns = [lung_col_name])\n",
    "recip_lung_tcell_df[blood_col_name] = recip_tcell_dnase\n",
    "recip_lung_tcell_df[\"class_type\"] = \"recipient\"\n",
    "\n",
    "combined_donor_recip_lung_tcell_df = pd.concat([donor_lung_tcell_df, recip_lung_tcell_df])\n",
    "\n",
    "sns.jointplot(data=combined_donor_recip_lung_tcell_df, x=lung_col_name, y=blood_col_name, hue=\"class_type\")\n",
    "plt.legend(loc='best')\n",
    "plt.title(f\"Comparison of a DNASE track for lung and blood cell types for donors and recipients\", y = 1.2)\n",
    "plt.show()"
   ]
  },
  {
   "cell_type": "markdown",
   "metadata": {},
   "source": [
    "**Get Enformer tracks corresponding to all Lung and Blood cell types**"
   ]
  },
  {
   "cell_type": "code",
   "execution_count": 9,
   "metadata": {},
   "outputs": [
    {
     "name": "stdout",
     "output_type": "stream",
     "text": [
      "Cell type is lung and indices are [105, 106, 111, 138, 167, 200, 229, 231, 245, 272, 279, 295, 314, 327, 387, 388, 390, 396, 400, 406, 407, 409, 419, 437, 461, 464, 487, 492, 512, 569, 579, 589, 590, 591, 603, 627, 632, 645, 649, 655, 659, 668]\n",
      "Cell type is blood and indices are [41, 131, 392, 508, 517, 188, 351, 366, 488, 489, 214, 233, 346, 369, 410, 454, 588, 598, 634, 61, 211, 214, 233, 333, 346, 369, 410, 454, 588, 598, 634]\n"
     ]
    }
   ],
   "source": [
    "lung_dnase_indices = getEnformerTrackIndices(\"DNASE\", \"lung\")\n",
    "blood_dnase_indices = getEnformerTrackIndices(\"DNASE\", \"blood\")\n",
    "\n",
    "#Get donor samples for lung and blood indices, combine them\n",
    "donor_lung_dnase = donors[:, lung_dnase_indices]\n",
    "donor_blood_dnase = donors[:, blood_dnase_indices]\n",
    "donor_lung_blood = np.hstack((donor_lung_dnase, donor_blood_dnase))\n",
    "\n",
    "#Get recipient samples for lung and blood indices, combine them\n",
    "recip_lung_dnase = recips[:, lung_dnase_indices]\n",
    "recip_blood_dnase = recips[:, blood_dnase_indices]\n",
    "recip_lung_blood = np.hstack((recip_lung_dnase, recip_blood_dnase))"
   ]
  },
  {
   "cell_type": "markdown",
   "metadata": {},
   "source": [
    "**Make a PCA plot of all lung and blood cell type Enformer tracks marked by donors and recipients**"
   ]
  },
  {
   "cell_type": "code",
   "execution_count": null,
   "metadata": {},
   "outputs": [],
   "source": [
    "pca_col_names = [\"PC1\", \"PC2\"]\n",
    "\n",
    "cell_specific_pca, cell_specific_pca_df = getPcaDataForPlotting(2, pca_col_names, donor_lung_blood, recip_lung_blood, False, False, False)\n",
    "print(cell_specific_pca_df.head(10))\n",
    "\n",
    "shuffled_cell_specific_pca_df = cell_specific_pca_df.sample(frac=1).reset_index(drop=True)\n",
    "print(len(shuffled_cell_specific_pca_df))\n",
    "title = \"PCA plot of lung and blood cell type specific Enformer tracks\"\n",
    "pcaSeabornJointPlot2d(cell_specific_pca, shuffled_cell_specific_pca_df, pca_col_names, title)"
   ]
  },
  {
   "cell_type": "markdown",
   "metadata": {},
   "source": [
    "**Methods to get df from donor, recipient samples(after balancing class) and to get Logistic regression predictions**"
   ]
  },
  {
   "cell_type": "code",
   "execution_count": 10,
   "metadata": {},
   "outputs": [],
   "source": [
    "def getDfForLogRegFromDonorAndRecips(all_donor_samples, all_recip_samples):\n",
    "    num_donor_samples = all_donor_samples.shape[0]\n",
    "    num_recip_samples = all_recip_samples.shape[0]\n",
    "\n",
    "    min_sample_count = min(num_donor_samples, num_recip_samples)\n",
    "    donor_indices_to_pick = random.sample(range(0, num_donor_samples), min_sample_count)\n",
    "    recip_indices_to_pick = random.sample(range(0, num_recip_samples), min_sample_count)\n",
    "\n",
    "    all_donor_samples = all_donor_samples[donor_indices_to_pick]\n",
    "    all_recip_samples = all_recip_samples[recip_indices_to_pick]\n",
    "    print(f\"All samples shape donor: {all_donor_samples.shape} and recipient: {all_recip_samples.shape}\")\n",
    "    combined_samples = np.vstack((all_donor_samples, all_recip_samples))\n",
    "    print(f\"Combined samples shape: {combined_samples.shape}\")\n",
    "    num_tracks = combined_samples.shape[1]\n",
    "\n",
    "    columnNames = []\n",
    "    for i in range(1, num_tracks+1):\n",
    "        columnNames.append(\"EnformerTrack\" + str(i))\n",
    "\n",
    "    donor_recip_df = pd.DataFrame(combined_samples, columns = columnNames)\n",
    "\n",
    "    #Set target and target names in the PCA df \n",
    "    donor_recip_df.loc[0:min_sample_count-1, \"target\"] = 1\n",
    "    donor_recip_df.loc[0:min_sample_count-1, \"target_name\"] = \"donor\"\n",
    "    donor_recip_df.loc[min_sample_count:2*min_sample_count - 1, \"target\"] = 0\n",
    "    donor_recip_df.loc[min_sample_count:2*min_sample_count -1, \"target_name\"] = \"recipient\"\n",
    "\n",
    "    return donor_recip_df\n",
    "\n",
    "def getLogisticRegressionPredictions(features_df, labels):\n",
    "    x_train, x_test, y_train, y_test = train_test_split(features_df, labels, test_size = 0.3, random_state = 0, shuffle=True)\n",
    "    print(x_train.shape, x_test.shape, len(y_train), len(y_test))\n",
    "\n",
    "    #The data from all different Enformer tracks could have different scales. Scale, so the model can converge faster\n",
    "    scaler = StandardScaler()\n",
    "    x_train_scaled = scaler.fit_transform(x_train)\n",
    "    x_test_scaled = scaler.fit_transform(x_test)\n",
    "\n",
    "    #Train logistic regression model and get predictions\n",
    "    logreg = LogisticRegression(random_state=16, solver='lbfgs', max_iter=1000)\n",
    "    logreg.fit(x_train_scaled, y_train)\n",
    "    y_pred_train = logreg.predict(x_train_scaled)\n",
    "    y_pred_test = logreg.predict(x_test_scaled)\n",
    "    y_pred_prob = logreg.predict_proba(x_test_scaled)[::,1]\n",
    "\n",
    "    print(f\"Training: True positives: {y_train.count(1)},True negatives: {y_train.count(0)}\")\n",
    "    print(f\"Test: True positives: {y_test.count(1)}, True Negatives: {y_test.count(0)}\")\n",
    "    print(f\"Training: Predicted Positives: {(y_pred_train == 1).sum()}, Predicted Negatives: {(y_pred_train == 0).sum()}\")\n",
    "    print(f\"Test: Predicted Positives: {(y_pred_test == 1).sum()}, Predicted Negatives: {(y_pred_test == 0).sum()}\")\n",
    "\n",
    "    return y_train, y_pred_train, y_test, y_pred_test, y_pred_prob"
   ]
  },
  {
   "cell_type": "markdown",
   "metadata": {},
   "source": [
    "**Methods to generation confusion matrix heat maps and ROC curves from logistic regression predictions**"
   ]
  },
  {
   "cell_type": "code",
   "execution_count": 11,
   "metadata": {},
   "outputs": [],
   "source": [
    "#Plot confusion matrix heatmap \n",
    "def getConfusionMatrix(y_pred, y_true):\n",
    "    cf_matrix = confusion_matrix(y_true, y_pred)\n",
    "    group_names = [\"True Neg\",\"False Pos\",\"False Neg\",\"True Pos\"]\n",
    "    group_counts = [\"{0:0.0f}\".format(value) for value in cf_matrix.flatten()]\n",
    "    group_percentages = [\"{0:.2%}\".format(value) for value in cf_matrix.flatten()/np.sum(cf_matrix)]\n",
    "    cf_matrix_labels = [f\"{v1}\\n{v2}\\n{v3}\" for v1, v2, v3 in zip(group_names,group_counts,group_percentages)]\n",
    "    cf_matrix_labels = np.asarray(cf_matrix_labels).reshape(2,2)\n",
    "    return cf_matrix, cf_matrix_labels\n",
    "\n",
    "def makeConfusionMatrixPlot(y_pred_train, y_train, y_pred_test, y_test):\n",
    "    test_cf_matrix, test_cf_matrix_labels = getConfusionMatrix(y_pred_test, y_test)\n",
    "\n",
    "    x_labels = [\"Donor (Neg)\", \"Recip (Pos)\"]\n",
    "    y_labels = [\"Donor (Neg)\", \"Recip (Pos)\"]\n",
    "\n",
    "    s1 = sns.heatmap(test_cf_matrix, annot=test_cf_matrix_labels, fmt = '', cmap=\"Blues\", annot_kws={\"fontsize\":11}, xticklabels=x_labels, yticklabels=y_labels)\n",
    "    s1.set_xlabel(\"Predicted Label\", fontsize=11)\n",
    "    s1.set_ylabel(\"True Label\", fontsize=11)\n",
    "    s1.tick_params(axis='x', labelsize=10)\n",
    "    s1.tick_params(axis='y', labelsize=10)\n",
    "\n",
    "    s1.get_xaxis().set_label_coords(0.5, -0.1)\n",
    "    s1.get_yaxis().set_label_coords(-0.2, 0.5)\n",
    "    plt.show()\n",
    "\n",
    "# def makeConfusionMatrixPlot(y_pred_train, y_train, y_pred_test, y_test):\n",
    "#     training_cf_matrix, training_cf_matrix_labels = getConfusionMatrix(y_pred_train, y_train)\n",
    "#     test_cf_matrix, test_cf_matrix_labels = getConfusionMatrix(y_pred_test, y_test)\n",
    "\n",
    "#     x_labels = [\"Donor (Neg)\", \"Recip (Pos)\"]\n",
    "#     y_labels = [\"Donor (Neg)\", \"Recip (Pos)\"]\n",
    "\n",
    "#     fig, (ax1, ax2) = plt.subplots(1,2, figsize=(14, 8))\n",
    "#     s1 = sns.heatmap(training_cf_matrix, annot=training_cf_matrix_labels, fmt = '', cmap=\"Blues\", ax=ax1, annot_kws={\"fontsize\":12}, xticklabels=x_labels, yticklabels=y_labels)\n",
    "#     s2 = sns.heatmap(test_cf_matrix, annot=test_cf_matrix_labels, fmt = '', cmap=\"Blues\", ax=ax2, annot_kws={\"fontsize\":12}, xticklabels=x_labels, yticklabels=y_labels)\n",
    "#     s1.set_xlabel(\"Predicted Label\", fontsize=12)\n",
    "#     s1.set_ylabel(\"True Label\", fontsize=12)\n",
    "#     s2.set_xlabel(\"Predicted Label\", fontsize=12)\n",
    "#     s2.set_ylabel(\"True Label\", fontsize=12)\n",
    "#     s1.tick_params(axis='x', labelsize=10)\n",
    "#     s1.tick_params(axis='y', labelsize=10)\n",
    "#     s2.tick_params(axis='x', labelsize=10)\n",
    "#     s2.tick_params(axis='y', labelsize=10)\n",
    "\n",
    "#     s1.get_xaxis().set_label_coords(0.5, -0.1)\n",
    "#     s1.get_yaxis().set_label_coords(-0.2, 0.5)\n",
    "#     s2.get_xaxis().set_label_coords(0.5, -0.1)\n",
    "#     s2.get_yaxis().set_label_coords(-0.2, 0.5)\n",
    "\n",
    "#     fig.subplots_adjust(hspace=0.75, wspace=0.75)\n",
    "\n",
    "#     ax1.title.set_text(f'Training Confusion Matrix')\n",
    "#     ax2.title.set_text(f'Test Confusion Matrix')\n",
    "#     plt.show()"
   ]
  },
  {
   "cell_type": "markdown",
   "metadata": {},
   "source": [
    "**Get logistic regression predictions and plots for 73 blood and lung cell type tracks**"
   ]
  },
  {
   "cell_type": "code",
   "execution_count": 13,
   "metadata": {},
   "outputs": [
    {
     "name": "stdout",
     "output_type": "stream",
     "text": [
      "All samples shape donor: (25000, 73) and recipient: (25000, 73)\n",
      "Combined samples shape: (50000, 73)\n",
      "(50000, 73)\n",
      "(35000, 73) (15000, 73) 35000 15000\n",
      "Training: True positives: 17442,True negatives: 17558\n",
      "Test: True positives: 7558, True Negatives: 7442\n",
      "Training: Predicted Positives: 17950, Predicted Negatives: 17050\n",
      "Test: Predicted Positives: 6927, Predicted Negatives: 8073\n"
     ]
    }
   ],
   "source": [
    "donor_recip_df = getDfForLogRegFromDonorAndRecips(donor_lung_blood, recip_lung_blood)\n",
    "\n",
    "labels = donor_recip_df['target'].tolist()\n",
    "features_df = donor_recip_df.drop(['target', 'target_name'], axis = 1)\n",
    "print(features_df.shape)\n",
    "\n",
    "y_train, y_pred_train, y_test, y_pred_test, y_pred_prob = getLogisticRegressionPredictions(features_df, labels)\n",
    "# makeConfusionMatrixPlot(y_pred_train, y_train, y_pred_test, y_test)\n",
    "# makeRocAucPlot(y_pred_prob, y_test)"
   ]
  },
  {
   "cell_type": "markdown",
   "metadata": {},
   "source": [
    "**Get logistic regression predictions for 100 PCA features of Enformer tracks**"
   ]
  },
  {
   "cell_type": "code",
   "execution_count": 14,
   "metadata": {},
   "outputs": [
    {
     "name": "stdout",
     "output_type": "stream",
     "text": [
      "(50000, 100)\n",
      "(35000, 100) (15000, 100) 35000 15000\n",
      "Training: True positives: 17442,True negatives: 17558\n",
      "Test: True positives: 7558, True Negatives: 7442\n",
      "Training: Predicted Positives: 17803, Predicted Negatives: 17197\n",
      "Test: Predicted Positives: 7637, Predicted Negatives: 7363\n"
     ]
    }
   ],
   "source": [
    "features_df = pca_df.drop(['target', 'target_name'], axis = 1)\n",
    "labels = pca_df['target'].tolist()\n",
    "print(features_df.shape)\n",
    "\n",
    "y_train_all, y_pred_train_all, y_test_all, y_pred_test_all, y_pred_prob_all = getLogisticRegressionPredictions(features_df, labels)\n",
    "# makeConfusionMatrixPlot(y_pred_train_all, y_train_all, y_pred_test_all, y_test_all)\n",
    "\n",
    "#The ROC AUC curve is meaningless - because it only reflects the imbalance in the original data and not the models\n",
    "#predictive capabilities. Make the data exactly balanced and do predictions. "
   ]
  },
  {
   "cell_type": "markdown",
   "metadata": {},
   "source": [
    "**The ROC from the length distribution curve needs to be added to the other ROC - so copying over all the relevant parts from the length distribution file here**"
   ]
  },
  {
   "cell_type": "code",
   "execution_count": 26,
   "metadata": {},
   "outputs": [],
   "source": [
    "def map_class_name(label):\n",
    "    if label == 1.0:\n",
    "        return 'donor'\n",
    "    elif label == 0.0:\n",
    "        return 'recipient'\n",
    "\n",
    "def getDataForLengthDistribution():\n",
    "    arguments = {}\n",
    "    arguments[\"donorFile1\"] = \"/hpc/compgen/projects/gw_cfdna/raw/external_data_haizi/unimputed/L77-D1-2.donor.frag.bed.gz\"\n",
    "    arguments[\"donorFile2\"] = \"/hpc/compgen/projects/gw_cfdna/raw/external_data_haizi/unimputed/L59-M14.donor.frag.bed.gz\"\n",
    "    arguments[\"recipientFile\"] = \"/hpc/compgen/projects/gw_cfdna/raw/external_data_haizi/unimputed/L77-D1-2.recipient.frag.bed.gz\"\n",
    "\n",
    "    columnNames  = [\"#chrom\", \"start\", \"end\", \"read_id\", \"mapq\", \"cigar1\", \"cigar2\"]\n",
    "    fullDonorNumpy1 = pd.read_csv(arguments[\"donorFile1\"],\n",
    "                sep = \"\\t\", names = columnNames, skiprows=11).to_numpy()\n",
    "    fullDonorNumpy2 = pd.read_csv(arguments[\"donorFile2\"],\n",
    "                sep = \"\\t\", names = columnNames, skiprows=11).to_numpy()\n",
    "\n",
    "    fullDonorNumpy = np.append(fullDonorNumpy1,fullDonorNumpy2,axis=0)\n",
    "    print(fullDonorNumpy.shape)\n",
    "    fullDonorNumpy = fullDonorNumpy[0:25000]\n",
    "\n",
    "    fullRecipientNumpy = pd.read_csv(arguments[\"recipientFile\"],\n",
    "                sep = \"\\t\", names = columnNames, skiprows=11).to_numpy()\n",
    "    fullRecipientNumpy = fullRecipientNumpy[0:25000]\n",
    "\n",
    "    print(f\"Lengths of donor and recip numpy  {fullDonorNumpy.shape} and {fullRecipientNumpy.shape}\")\n",
    "    print(\"Done reading bed files\")\n",
    "\n",
    "    #TODO remove once testing is done\n",
    "    # fullDonorNumpy = fullDonorNumpy[0:15]\n",
    "    # fullRecipientNumpy = fullRecipientNumpy[0:15]\n",
    "\n",
    "    donorRows, donorCols = fullDonorNumpy.shape\n",
    "    recipRows, recipCols = fullRecipientNumpy.shape\n",
    "\n",
    "    donorLabelsArray = np.zeros((donorRows, 1))\n",
    "    recipLabelsArray = np.ones((recipRows, 1))\n",
    "\n",
    "    lengthNumpyDonor = fullDonorNumpy[:,2].astype(int) - fullDonorNumpy[:,1].astype(int)\n",
    "    lengthNumpyDonor = lengthNumpyDonor.reshape((donorRows, 1))\n",
    "    lengthNumpyDonor = np.append(lengthNumpyDonor, donorLabelsArray, axis=1)\n",
    "\n",
    "    lengthNumpyRecip = fullRecipientNumpy[:,2].astype(int) - fullRecipientNumpy[:,1].astype(int)\n",
    "    lengthNumpyRecip = lengthNumpyRecip.reshape((recipRows, 1))\n",
    "    lengthNumpyRecip = np.append(lengthNumpyRecip, recipLabelsArray, axis=1)\n",
    "\n",
    "    print(f\"Shape of length donor numpy and length recip numpy are {lengthNumpyDonor.shape} and {lengthNumpyRecip.shape}\")\n",
    "    lengthArrayToPlot = np.append(lengthNumpyDonor,lengthNumpyRecip,axis=0)\n",
    "    print(f\"Shape of the length array to plot is {lengthArrayToPlot.shape}\")\n",
    "    \n",
    "    length_df = pd.DataFrame(lengthArrayToPlot, columns = ['length of fragment(bps)','label'])\n",
    "\n",
    "    # label_mapping = {0: \"donor\", 1: \"recipient\"}\n",
    "\n",
    "    # Apply the mapping to the 'label' column\n",
    "    # length_df['cfDNA fragment class'] = length_df['label'].map(label_mapping)\n",
    "\n",
    "    # print(length_df[\"label\"].value_counts())\n",
    "    # # print(length_df[\"class_name\"].value_counts())\n",
    "    return length_df"
   ]
  },
  {
   "cell_type": "markdown",
   "metadata": {},
   "source": [
    "**Get predictions for logistic regression model trained on length**"
   ]
  },
  {
   "cell_type": "code",
   "execution_count": 28,
   "metadata": {},
   "outputs": [
    {
     "name": "stdout",
     "output_type": "stream",
     "text": [
      "(47157, 7)\n",
      "Lengths of donor and recip numpy  (25000, 7) and (25000, 7)\n",
      "Done reading bed files\n",
      "Shape of length donor numpy and length recip numpy are (25000, 2) and (25000, 2)\n",
      "Shape of the length array to plot is (50000, 2)\n",
      "50000\n",
      "   length of fragment(bps)  label\n",
      "0                    172.0    0.0\n",
      "1                    161.0    0.0\n",
      "2                    159.0    0.0\n",
      "3                    158.0    0.0\n",
      "4                    151.0    0.0\n",
      "5                    168.0    0.0\n",
      "6                    138.0    0.0\n",
      "7                    154.0    0.0\n",
      "8                    165.0    0.0\n",
      "9                    185.0    0.0\n",
      "(35000, 1) (15000, 1) 35000 15000\n",
      "Training: True positives: 17558,True negatives: 17442\n",
      "Test: True positives: 7442, True Negatives: 7558\n",
      "Training: Predicted Positives: 19431, Predicted Negatives: 15569\n",
      "Test: Predicted Positives: 8444, Predicted Negatives: 6556\n"
     ]
    }
   ],
   "source": [
    "length_df = getDataForLengthDistribution()\n",
    "print(len(length_df))\n",
    "print(length_df.head(10))\n",
    "features_df = length_df.drop(['label'], axis = 1)\n",
    "labels = length_df['label'].tolist()\n",
    "y_train_length, y_pred_train_length, y_test_length, y_pred_test_length, y_pred_prob_length = getLogisticRegressionPredictions(features_df, labels)"
   ]
  },
  {
   "cell_type": "markdown",
   "metadata": {},
   "source": [
    "**Make the combined ROc for all 3 logistic regression models (the one for all enformer tracks, the one for lung and blood cell tracks and the one with only length as the feature)**"
   ]
  },
  {
   "cell_type": "code",
   "execution_count": 30,
   "metadata": {},
   "outputs": [
    {
     "name": "stdout",
     "output_type": "stream",
     "text": [
      "auc: 0.5096874237954426 and all auc: 0.5109228932375618 and length auc : 0.5401136789762858\n"
     ]
    },
    {
     "data": {
      "image/png": "[encoded data removed]",
      "text/plain": [
       "<Figure size 640x480 with 1 Axes>"
      ]
     },
     "metadata": {},
     "output_type": "display_data"
    }
   ],
   "source": [
    "def makeRocAucPlot(y_pred_prob, y_test, y_pred_prob_all, y_test_all, y_pred_prob_length, y_test_length):\n",
    "    auc_score = roc_auc_score(y_test, y_pred_prob)\n",
    "    train_fpr, train_tpr, _ = roc_curve(y_test, y_pred_prob, pos_label=1)\n",
    "\n",
    "    auc_score_all = roc_auc_score(y_test_all, y_pred_prob_all)\n",
    "    train_fpr_all, train_tpr_all, _ = roc_curve(y_test_all, y_pred_prob_all, pos_label=1)\n",
    "\n",
    "    auc_score_length = roc_auc_score(y_test_length, y_pred_prob_length)\n",
    "    train_fpr_length, train_tpr_length, _ = roc_curve(y_test_length, y_pred_prob_length, pos_label=1)\n",
    "\n",
    "    print(f\"auc: {auc_score} and all auc: {auc_score_all} and length auc : {auc_score_length}\")\n",
    "    #Get random predictions\n",
    "    random_pred_val = [0 for i in range(len(y_test))]\n",
    "    r_fpr, r_tpr, _ = roc_curve(y_test, random_pred_val, pos_label=1)\n",
    "\n",
    "    plt.plot(train_fpr_length, train_tpr_length, linestyle='--',color='red', label='fragment length')\n",
    "    plt.plot(train_fpr, train_tpr, linestyle='--',color='green', label='all enformer features')\n",
    "    plt.plot(train_fpr_all, train_tpr_all, linestyle='--',color='blue', label='lung and blood cell enformer features')\n",
    "\n",
    "    # plt.plot(r_fpr, r_tpr, linestyle='--', color='black', label = \"random predictor\")\n",
    "    plt.xlabel('False Positive Rate/FPR')\n",
    "    plt.ylabel('True Positive Rate/TPR')\n",
    "    plt.legend(loc='best')\n",
    "    plt.show()\n",
    "\n",
    "makeRocAucPlot(y_pred_prob, y_test, y_pred_prob_all, y_test_all, y_pred_prob_length, y_test_length)"
   ]
  },
  {
   "cell_type": "markdown",
   "metadata": {},
   "source": [
    "**make TNSE plot of all the features**"
   ]
  },
  {
   "cell_type": "code",
   "execution_count": null,
   "metadata": {},
   "outputs": [],
   "source": [
    "tsne_plot_path = \"/hpc/compgen/projects/fragclass/analysis/mvivekanandan/script/madhu_scripts/one_time_use_side_scripts/enformer_tracks_initial_analysis_plots/tsne_plot\"\n",
    "df_for_tsne = enformer_tracks_scaled_df.drop(['target', 'target_name'], axis = 1)\n",
    "tsne = TSNE(n_components=2, verbose=1, perplexity=40, n_iter=300)\n",
    "tsne_results = tsne.fit_transform(df_for_tsne)\n",
    "print(\"Finished getting TSNE results\")"
   ]
  },
  {
   "cell_type": "markdown",
   "metadata": {},
   "source": [
    "**Get TSNE results for high perplexity**"
   ]
  },
  {
   "cell_type": "code",
   "execution_count": null,
   "metadata": {},
   "outputs": [],
   "source": [
    "tsne_plot_path = \"/hpc/compgen/projects/fragclass/analysis/mvivekanandan/script/madhu_scripts/one_time_use_side_scripts/enformer_tracks_initial_analysis_plots/tsne_plot\"\n",
    "df_for_tsne = enformer_tracks_scaled_df.drop(['target', 'target_name'], axis = 1)\n",
    "tsne_high_perplexity = TSNE(n_components=2, verbose=1, perplexity=70, n_iter=300)\n",
    "tsne_results_high_perplex = tsne_high_perplexity.fit_transform(df_for_tsne)\n",
    "print(\"Finished getting TSNE results\")"
   ]
  },
  {
   "cell_type": "markdown",
   "metadata": {},
   "source": [
    "**Get TSNE results for low perplexity**"
   ]
  },
  {
   "cell_type": "code",
   "execution_count": null,
   "metadata": {},
   "outputs": [],
   "source": [
    "tsne_plot_path = \"/hpc/compgen/projects/fragclass/analysis/mvivekanandan/script/madhu_scripts/one_time_use_side_scripts/enformer_tracks_initial_analysis_plots/tsne_plot\"\n",
    "df_for_tsne = enformer_tracks_scaled_df.drop(['target', 'target_name'], axis = 1)\n",
    "tsne_low_perplexity = TSNE(n_components=2, verbose=1, perplexity=10, n_iter=300)\n",
    "tsne_results_low_perplex = tsne_low_perplexity.fit_transform(df_for_tsne)\n",
    "print(\"Finished getting TSNE results\")"
   ]
  },
  {
   "cell_type": "code",
   "execution_count": null,
   "metadata": {},
   "outputs": [],
   "source": [
    "print(f\"Num donors: {num_donors} and num recipients: {num_recips}\")\n",
    "\n",
    "def getToPlotTsneDf(tsne_results):\n",
    "    tsne_resuts_df = pd.DataFrame(tsne_results, columns = [\"TSNE axis 1\", \"TSNE axis 2\"])\n",
    "    print(len(tsne_resuts_df))\n",
    "    tsne_resuts_df.loc[0:num_donors-1, \"target\"] = 1\n",
    "    tsne_resuts_df.loc[0:num_donors-1, \"target_name\"] = \"donor\"\n",
    "    tsne_resuts_df.loc[num_donors:num_donors + num_recips - 1, \"target\"] = 0\n",
    "    tsne_resuts_df.loc[num_donors:num_donors + num_recips -1, \"target_name\"] = \"recipient\"\n",
    "    shuffled_df = tsne_resuts_df.sample(frac=1).reset_index(drop=True)\n",
    "\n",
    "    return shuffled_df\n",
    "\n",
    "to_plot_high_perplex = getToPlotTsneDf(tsne_results_high_perplex)\n",
    "to_plot_low_perplex = getToPlotTsneDf(tsne_results_high_perplex)\n",
    "\n",
    "fig = plt.subplots(figsize=(8, 6))\n",
    "\n",
    "sns.jointplot(data=to_plot_low_perplex, x=\"TSNE axis 1\", y='TSNE axis 2', hue=\"target_name\")\n",
    "# sns.jointplot(data=to_plot_low_perplex, x=\"TSNE axis 1\", y='TSNE axis 2', hue=\"target_name\")\n",
    "\n",
    "# fig.subplots_adjust(hspace=0.75, wspace=0.75)\n",
    "\n",
    "# ax1.title.set_text(f'Perplexity = 70')\n",
    "# ax2.title.set_text(f'Perplexity = 10')\n",
    "\n",
    "# # Add labels and legend\n",
    "# plt.title(\"T-SNE Visualization of Enformer tracks (perplexity = 10)\", y = 1.2)\n",
    "# plt.xlabel(\"Component 1\")\n",
    "# plt.ylabel(\"Component 2\")\n",
    "plt.legend()\n",
    "\n",
    "# Show the plot\n",
    "plt.show()"
   ]
  },
  {
   "cell_type": "markdown",
   "metadata": {},
   "source": [
    "**Make a UMAp plot of all the features**"
   ]
  },
  {
   "cell_type": "code",
   "execution_count": null,
   "metadata": {},
   "outputs": [],
   "source": []
  }
 ],
 "metadata": {
  "kernelspec": {
   "display_name": "Python [conda env:fragenv] *",
   "language": "python",
   "name": "conda-env-fragenv-py"
  },
  "language_info": {
   "codemirror_mode": {
    "name": "ipython",
    "version": 3
   },
   "file_extension": ".py",
   "mimetype": "text/x-python",
   "name": "python",
   "nbconvert_exporter": "python",
   "pygments_lexer": "ipython3",
   "version": "3.10.9"
  },
  "orig_nbformat": 4
 },
 "nbformat": 4,
 "nbformat_minor": 2
}
