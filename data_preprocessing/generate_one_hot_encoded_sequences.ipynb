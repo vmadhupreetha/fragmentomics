{
 "cells": [
  {
   "cell_type": "code",
   "execution_count": 9,
   "metadata": {},
   "outputs": [
    {
     "name": "stdout",
     "output_type": "stream",
     "text": [
      "arguments in file sequenceDataset are {'coordStoreDirectory': '/hpc/compgen/projects/fragclass/analysis/mvivekanandan/output/latest_training_validation_data/trainingAndValidationExactlyClassBalancedHalfMil_0.00001', 'refGenomePath': '/hpc/compgen/projects/fragclass/raw/hg19_genome/hg19_ch1-22_XYM.fa', 'modelInputSequenceSize': 370, 'runWithControls': True, 'usePaddingForCnn': True, 'interchangeLabels': False, 'trainingCoordsDatasetName': 'trainingCoords', 'validationCoordsDatasetName': 'validationCoords', 'testCoordsDatasetName': 'testCoords', 'trainingLabelsDatasetName': 'trainingLabels', 'validationLabelsDatasetName': 'validationLabels', 'testLabelsDatasetName': 'testLabels'}\n"
     ]
    }
   ],
   "source": [
    "import pandas as pd\n",
    "\n",
    "from torch.utils.data import Dataset, DataLoader\n",
    "\n",
    "import h5py\n",
    "import sys\n",
    "import torch\n",
    "\n",
    "sys.path.insert(0,'/hpc/compgen/projects/fragclass/analysis/mvivekanandan/script/madhu_scripts')\n",
    "\n",
    "import config\n",
    "import utils\n",
    "import sequenceDataset\n",
    "\n",
    "import importlib   \n",
    "import os"
   ]
  },
  {
   "cell_type": "code",
   "execution_count": 10,
   "metadata": {},
   "outputs": [
    {
     "name": "stdout",
     "output_type": "stream",
     "text": [
      "arguments in file sequenceDataset are {'coordStoreDirectory': '/hpc/compgen/projects/fragclass/analysis/mvivekanandan/output/latest_training_validation_data/trainingAndValidationExactlyClassBalancedHalfMil_0.00001', 'refGenomePath': '/hpc/compgen/projects/fragclass/raw/hg19_genome/hg19_ch1-22_XYM.fa', 'modelInputSequenceSize': 370, 'runWithControls': True, 'usePaddingForCnn': True, 'interchangeLabels': False, 'trainingCoordsDatasetName': 'trainingCoords', 'validationCoordsDatasetName': 'validationCoords', 'testCoordsDatasetName': 'testCoords', 'trainingLabelsDatasetName': 'trainingLabels', 'validationLabelsDatasetName': 'validationLabels', 'testLabelsDatasetName': 'testLabels'}\n"
     ]
    }
   ],
   "source": [
    "importlib.reload(sequenceDataset)\n",
    "importlib.reload(config)\n",
    "importlib.reload(utils)\n",
    "\n",
    "arguments = {}\n",
    "#input paths\n",
    "arguments[\"coordStoreDirectory\"] = config.filePaths.get(\"coordStoreDirectory\")\n",
    "arguments[\"refGenomePath\"] = config.filePaths.get(\"refGenomePath\")\n",
    "arguments[\"trainingEnformerMetadata\"] = config.filePaths.get(\"trainingEnformerMetadata\")\n",
    "arguments[\"validationEnformerMetadata\"] = config.filePaths.get(\"validationEnformerMetadata\")\n",
    "arguments[\"testEnformerMetadata\"] = config.filePaths.get(\"testEnformerMetadata\")\n",
    "\n",
    "#output file paths\n",
    "arguments[\"trainingEncodedSequenceFilePath\"] = config.filePaths.get(\"trainingEncodedSequenceFilePath\")\n",
    "arguments[\"validationEncodedSequenceFilePath\"] = config.filePaths.get(\"validationEncodedSequenceFilePath\")\n",
    "arguments[\"testEncodedSequenceFilePath\"] = config.filePaths.get(\"testEncodedSequenceFilePath\")\n",
    "\n",
    "#General configs\n",
    "arguments[\"cnnInputSequenceSize\"] = config.modelHyperParameters.get(\"modelInputSequenceSize\")\n",
    "arguments[\"runWithControls\"] = config.modelGeneralConfigs.get(\"runWithControls\")\n",
    "arguments[\"batchSize\"] = config.modelHyperParameters.get(\"batchSize\")\n",
    "arguments[\"numWorkers\"] = config.modelHyperParameters.get(\"numberOfWorkers\")\n",
    "arguments[\"usePaddingForCnn\"] = config.modelGeneralConfigs.get(\"usePaddingForCnn\")\n",
    "\n",
    "\n",
    "#Dataset names\n",
    "arguments[\"trainingCoordsDatasetName\"] = config.datasetNames.get(\"trainingCoords\")\n",
    "arguments[\"validationCoordsDatasetName\"] = config.datasetNames.get(\"validationCoords\")\n",
    "arguments[\"testCoordsDatasetName\"] = config.datasetNames.get(\"testCoords\")\n",
    "arguments[\"trainingLabelsDatasetName\"] = config.datasetNames.get(\"trainingLabels\")\n",
    "arguments[\"validationLabelsDatasetName\"] = config.datasetNames.get(\"validationLabels\")\n",
    "arguments[\"testLabelsDatasetName\"] = config.datasetNames.get(\"testLabels\")\n",
    "arguments[\"trainingEncodedSequenceDatasetName\"] = config.datasetNames.get(\"trainingEncodedSequence\")\n",
    "arguments[\"validationEncodedSequenceDatasetName\"] = config.datasetNames.get(\"validationEncodedSequence\")\n",
    "arguments[\"testEncodedSequenceDatasetName\"] = config.datasetNames.get(\"testEncodedSequence\")\n",
    "arguments[\"trainingSequenceLengthDatasetName\"] = config.datasetNames.get(\"trainingSequenceLength\")\n",
    "arguments[\"validationSequenceLengthDatasetName\"] = config.datasetNames.get(\"validationSequenceLength\")\n",
    "arguments[\"testSequenceLengthDatasetName\"] = config.datasetNames.get(\"testSequenceLength\")"
   ]
  },
  {
   "cell_type": "code",
   "execution_count": 11,
   "metadata": {},
   "outputs": [],
   "source": [
    "#Get the sequence dataset, but instead of iterating through the whole directory, only pick one sample\n",
    "#given a file name and the index within the file. \n",
    "class SequenceDatasetForEncoding(Dataset):\n",
    "    def __init__(self, sampleType, metadataDf):\n",
    "        self.sampleType = sampleType\n",
    "        self.metadataDf = metadataDf\n",
    "\n",
    "    def __getitem__(self, index):\n",
    "        filepath_in_metadata = self.metadataDf[\"og_file\"].iloc[index]\n",
    "        \"\"\"\n",
    "        The metadatadf has the path of the file at the time of creation of the metadata CSV file. Get the filename \n",
    "        from the path and generate the new file path from the current coordinate store directory path\n",
    "        \"\"\"\n",
    "        filename_in_metadata = os.path.basename(filepath_in_metadata)\n",
    "        filepath = os.path.join(arguments[\"coordStoreDirectory\"], filename_in_metadata)\n",
    "        indexInFileStr = self.metadataDf[\"indexInFile\"].iloc[index] #Convert the index tensor into an int\n",
    "\n",
    "        #The indexInFile field looks like this tensor(1234). Extract only the value 1234 from the whole string. \n",
    "        indexInFile = int(indexInFileStr[indexInFileStr.find(\"(\")+1: indexInFileStr.find(\")\")])\n",
    "\n",
    "        with h5py.File(filepath, 'r') as f:\n",
    "            h5pyCoordsDatasetName = arguments[self.sampleType + \"CoordsDatasetName\"]\n",
    "            coord = f[h5pyCoordsDatasetName][indexInFile]\n",
    "            #Each sample should have only one label, it should be a single value instead of a numpy 1D array.The [0] is to make it a single value instead of a numpy array.\n",
    "            # label = f['trainingLabels'][index][0]\n",
    "            h5pyLabelsDatasetName = arguments[self.sampleType + \"LabelsDatasetName\"]\n",
    "            label = f[h5pyLabelsDatasetName][:][indexInFile]\n",
    "            \n",
    "        sequenceOutputLength = arguments[\"cnnInputSequenceSize\"]\n",
    "        encoded_input_sequence, _ , og_sequence_length = utils.getOneHotEncodedSequenceFromCoordinates(coord, arguments[\"refGenomePath\"],\n",
    "                                                                                          sequenceOutputLength, arguments[\"usePaddingForCnn\"])\n",
    "        assert encoded_input_sequence.shape == (sequenceOutputLength, 4), f\"One of the samples did not have the right dimensions({(sequenceOutputLength, 4)}). The sample index is {index}, shape is {encoded_input_sequence.shape}, filepath is {filepath} and index within the file is {indexInFile}\"\n",
    "        \n",
    "        return encoded_input_sequence, label, og_sequence_length\n",
    "\n",
    "    def __len__(self):\n",
    "        return len(self.metadataDf)"
   ]
  },
  {
   "cell_type": "code",
   "execution_count": 26,
   "metadata": {},
   "outputs": [],
   "source": [
    "def storeAsH5pyFile(sampleType, numSamples, createDataset=False, h5_file=False, sequenceToStore=False, \n",
    "                    labelsToStore=False, og_sequence_length = False, currentIndex=False):\n",
    "    encodedSequenceDatasetName = arguments[sampleType + \"EncodedSequenceDatasetName\"]\n",
    "    labelsDatasetName = arguments[sampleType + \"LabelsDatasetName\"]\n",
    "    sequenceLengthDatasetName = arguments[sampleType + \"SequenceLengthDatasetName\"]\n",
    "    encodedSequenceFilePath = arguments[sampleType + \"EncodedSequenceFilePath\"]\n",
    "    sequence_length = arguments[\"cnnInputSequenceSize\"]\n",
    "    \n",
    "    #If we opening the H5PY file for the 1st time then create the dataset and return the file. \n",
    "    if createDataset: \n",
    "        if h5_file == False:\n",
    "            h5_file = h5py.File(encodedSequenceFilePath, \"w-\")\n",
    "\n",
    "        h5_file.create_dataset(encodedSequenceDatasetName,  (numSamples, sequence_length, 4),\n",
    "                                        compression=\"gzip\", compression_opts=8, chunks = (200, sequence_length, 4))\n",
    "        h5_file.create_dataset(labelsDatasetName, (numSamples, 1), compression=\"gzip\", compression_opts=8, chunks = (200, 1))\n",
    "        h5_file.create_dataset(sequenceLengthDatasetName, (numSamples, 1), compression=\"gzip\", compression_opts=8, chunks = (200, 1))\n",
    "        return(h5_file)\n",
    "\n",
    "    else:\n",
    "        sizeOfOutputToStore = len(labelsToStore)\n",
    "        og_sequence_length = torch.reshape(og_sequence_length, (sizeOfOutputToStore, 1))\n",
    "        endIndex = currentIndex + sizeOfOutputToStore\n",
    "        h5_file[encodedSequenceDatasetName][(currentIndex):(endIndex),:, :] = sequenceToStore\n",
    "        h5_file[labelsDatasetName][(currentIndex):(endIndex),:] = labelsToStore\n",
    "        h5_file[sequenceLengthDatasetName][(currentIndex):(endIndex),:] = og_sequence_length\n",
    "        return endIndex\n",
    "\n",
    "def generateOneHotEncodings(sampleType, h5_file = False):    \n",
    "    #Read Enformer metadata CSV file and get as a dataframe\n",
    "    metadataFileKey = sampleType + \"EnformerMetadata\"\n",
    "    enformerMetadataFile = arguments[metadataFileKey]\n",
    "    metadataDf = pd.read_csv(enformerMetadataFile, sep = \"\\t\", names=[\"og_file\", \"indexInFile\"], skiprows=1)\n",
    "    numSamples = len(metadataDf)\n",
    "\n",
    "    dataset = SequenceDatasetForEncoding(sampleType, metadataDf)\n",
    "    dataloader = DataLoader(dataset, batch_size=arguments[\"batchSize\"], num_workers=arguments[\"numWorkers\"], \n",
    "                            shuffle=False)\n",
    "\n",
    "    h5_file = storeAsH5pyFile(sampleType, numSamples, True, h5_file)\n",
    "    currentH5Index = 0\n",
    "    \n",
    "    for i, data in enumerate(dataloader):\n",
    "        encoded_sequence, label, og_sequence_length = data\n",
    "\n",
    "        \"\"\"\n",
    "        H5 file contents are updated every batch. To ensure that the contents are not overwritten every batch, store with indices. \n",
    "        The indices given are ascending order numbers starting from 0, this ensures that the shuffled order is maintained while storing in H5PY file. \n",
    "        \"\"\"\n",
    "        currentH5Index = storeAsH5pyFile(sampleType, numSamples, False, h5_file, encoded_sequence, label, og_sequence_length, currentH5Index)\n",
    "        print(f\"Finished processing batch {i}. The number of samples stored in H5PY file so far is {currentH5Index}\", flush = True)"
   ]
  },
  {
   "cell_type": "code",
   "execution_count": null,
   "metadata": {},
   "outputs": [],
   "source": [
    "if __name__ == '__main__':\n",
    "    generateOneHotEncodings(\"training\")\n",
    "    # generateOneHotEncodings(\"validation\")"
   ]
  },
  {
   "cell_type": "code",
   "execution_count": null,
   "metadata": {},
   "outputs": [],
   "source": [
    "metadataFileKey = \"trainingEnformerMetadata\"\n",
    "enformerMetadataFile = arguments[metadataFileKey]\n",
    "print(f\"metadata\")\n",
    "metadataDf = pd.read_csv(enformerMetadataFile, sep = \"\\t\", names=[\"og_file\", \"indexInFile\"], skiprows=1)\n",
    "numSamples = len(metadataDf)\n",
    "\n",
    "dataset = SequenceDatasetForEncoding(sampleType, metadataDf)"
   ]
  }
 ],
 "metadata": {
  "kernelspec": {
   "display_name": "Python [conda env:fragenv] *",
   "language": "python",
   "name": "conda-env-fragenv-py"
  },
  "language_info": {
   "codemirror_mode": {
    "name": "ipython",
    "version": 3
   },
   "file_extension": ".py",
   "mimetype": "text/x-python",
   "name": "python",
   "nbconvert_exporter": "python",
   "pygments_lexer": "ipython3",
   "version": "3.10.9"
  },
  "orig_nbformat": 4
 },
 "nbformat": 4,
 "nbformat_minor": 2
}
