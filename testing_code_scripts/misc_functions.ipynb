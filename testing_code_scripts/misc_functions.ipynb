{
 "cells": [
  {
   "cell_type": "code",
   "execution_count": 1,
   "metadata": {},
   "outputs": [],
   "source": [
    "import pysam\n",
    "import numpy as np\n",
    "import torch\n",
    "import pandas as pd\n",
    "\n",
    "import h5py\n",
    "import sys\n",
    "import torch\n",
    "\n",
    "sys.path.insert(0,'/hpc/compgen/projects/fragclass/analysis/mvivekanandan/script/madhu_scripts')\n",
    "\n",
    "import config\n",
    "import utils\n",
    "\n",
    "import importlib   \n",
    "import os\n",
    "\n",
    "import seaborn as sns\n",
    "import matplotlib.pyplot as plt\n",
    "\n",
    "importlib.reload(config)\n",
    "importlib.reload(utils)\n",
    "\n",
    "arguments = {}\n",
    "#File paths\n",
    "arguments[\"refGenomePath\"] = config.filePaths.get(\"refGenomePath\")\n",
    "arguments[\"coordStoreDirectory\"] = config.filePaths.get(\"coordStoreDirectory\")\n",
    "arguments[\"trainingEnformerOuputStoreFile\"] = config.filePaths.get(\"trainingEnformerOuputStoreFile\")\n",
    "arguments[\"validationEnformerOuputStoreFile\"] = config.filePaths.get(\"validationEnformerOuputStoreFile\")\n",
    "arguments[\"testEnformerOuputStoreFile\"] = config.filePaths.get(\"testEnformerOuputStoreFile\")\n",
    "arguments[\"trainingMetadata\"] = config.filePaths.get(\"trainingMetadata\")\n",
    "arguments[\"validationMetadata\"] = config.filePaths.get(\"validationMetadata\")\n",
    "arguments[\"testMetadata\"] = config.filePaths.get(\"testMetadata\")\n",
    "\n",
    "#All the datasets\n",
    "#Coordinate files datasets \n",
    "arguments[\"trainingCoords\"] = config.datasetNames.get(\"trainingCoords\")\n",
    "arguments[\"validationCoords\"] = config.datasetNames.get(\"validationCoords\")\n",
    "arguments[\"testCoords\"] = config.datasetNames.get(\"testCoords\")\n",
    "\n",
    "#Labels datasets \n",
    "arguments[\"trainingLabels\"] = config.datasetNames.get(\"trainingLabels\")\n",
    "arguments[\"validationLabels\"] = config.datasetNames.get(\"validationLabels\")\n",
    "arguments[\"testLabels\"] = config.datasetNames.get(\"testLabels\")\n",
    "\n",
    "#One hot encoded sequence datasets \n",
    "arguments[\"trainingEncodedSequence\"] = config.datasetNames.get(\"trainingEncodedSequence\")\n",
    "arguments[\"validationEncodedSequence\"] = config.datasetNames.get(\"validationEncodedSequence\")\n",
    "arguments[\"testEncodedSequence\"] = config.datasetNames.get(\"testEncodedSequence\")\n",
    "\n",
    "#Enformer output datasets\n",
    "arguments[\"trainingEnformerOutput\"] = config.datasetNames.get(\"trainingEnformerOutput\")\n",
    "arguments[\"validationEnformerOutput\"] = config.datasetNames.get(\"validationEnformerOutput\")\n",
    "arguments[\"testEnformerOutput\"] = config.datasetNames.get(\"testEnformerOutput\")\n",
    "\n",
    "\n",
    "def getOneHotEncodedSequenceFromCoordinates(coord):\n",
    "    referenceGenome = pysam.FastaFile(arguments[\"refGenomePath\"])\n",
    "    coords = (coord[0].decode('UTF-8'), int(coord[1]), int(coord[2]))\n",
    "    #Get surrounding sequence for feeding into enformer.\n",
    "    (extendedCoordsEnformer, bins) = utils.getCoordsAndBin(coords, referenceGenome)\n",
    "    \n",
    "    #Get the raw sequence using the coordinates and the reference genome.\n",
    "    cfDnaFragment = utils.getSequenceFromCoord(referenceGenome, extendedCoordsEnformer)\n",
    "    \n",
    "    #One hot encode sequence\n",
    "    encodedFragment = utils.oneHotEncodeSequence(cfDnaFragment)\n",
    "\n",
    "    encoded_input_sequence = torch.tensor(np.float32(encodedFragment))\n",
    "    # encoded_input_sequence = encoded_input_sequence.to\\(device)\n",
    "    return encoded_input_sequence, bins"
   ]
  },
  {
   "attachments": {},
   "cell_type": "markdown",
   "metadata": {},
   "source": [
    "**Get number of training and validation samples in a given coordinate H5PY file**"
   ]
  },
  {
   "cell_type": "code",
   "execution_count": null,
   "metadata": {},
   "outputs": [],
   "source": [
    "sampleType = \"test\"\n",
    "coordDirName = \"small_latest_test_coords\"\n",
    "fileName = \"L1-M13.donor.hdf5\"\n",
    "filePath = \"/hpc/compgen/projects/fragclass/analysis/mvivekanandan/output/\" + coordDirName + \"/\" + fileName\n",
    "\n",
    "with h5py.File(filePath, 'r') as f:\n",
    "    testSamples = f[f\"{sampleType}Labels\"][:]\n",
    "\n",
    "#Print stats\n",
    "pos = (testSamples == 1).sum()\n",
    "neg = (testSamples == 0).sum()\n",
    "print(f\"TEST: Positives: {pos}, Negatives: {neg} and Total: {pos + neg}\")\n"
   ]
  },
  {
   "attachments": {},
   "cell_type": "markdown",
   "metadata": {},
   "source": [
    "**Get the number of positives, negatives and total samples in all files combined in a given cooordinate store directory**"
   ]
  },
  {
   "cell_type": "code",
   "execution_count": 2,
   "metadata": {},
   "outputs": [
    {
     "name": "stdout",
     "output_type": "stream",
     "text": [
      "POSITIVES: 5695 and NEGATIVES 157140\n",
      "TOTAL : 162835\n"
     ]
    }
   ],
   "source": [
    "sampleType = \"test\"\n",
    "dirPath = \"/hpc/compgen/projects/fragclass/analysis/mvivekanandan/output/latestTwoTestCoordinateFiles\"\n",
    "numSamples = 0\n",
    "positives = 0\n",
    "negatives = 0\n",
    "\n",
    "for filename in os.listdir(dirPath):\n",
    "    filePath = os.path.join(dirPath, filename)\n",
    "    with h5py.File(filePath, 'r') as f:\n",
    "        trainingSamples = f[f\"{sampleType}Labels\"][:]\n",
    "        numPositives = (trainingSamples == 1).sum()\n",
    "        numNegatives = (trainingSamples == 0).sum()\n",
    "        # print(f\"num positives: {numPositives}\")\n",
    "        # print(f\"num negatives: {numNegatives}\")\n",
    "\n",
    "    positives = positives + numPositives\n",
    "    negatives = negatives + numNegatives\n",
    "\n",
    "print(f\"POSITIVES: {positives} and NEGATIVES {negatives}\")\n",
    "print(f\"TOTAL : {positives + negatives}\")"
   ]
  },
  {
   "cell_type": "code",
   "execution_count": null,
   "metadata": {},
   "outputs": [],
   "source": [
    "test_patients = ['L21-M23.donor.frag.bed.gz', 'L21-M23.recipient.frag.bed.gz', 'L49-M14.donor.frag.bed.gz', 'L49-M14.recipient.frag.bed.gz', 'L5-M13_5.donor.frag.bed.gz', 'L5-M13_5.recipient.frag.bed.gz', 'L34-M6.donor.frag.bed.gz', 'L34-M6.recipient.frag.bed.gz', 'L74-D2-2.donor.frag.bed.gz', 'L74-D2-2.recipient.frag.bed.gz', 'L1-M13.donor.frag.bed.gz', 'L1-M13.recipient.frag.bed.gz', 'L79-M6-1.donor.frag.bed.gz', 'L79-M6-1.recipient.frag.bed.gz', 'L81-W2.donor.frag.bed.gz', 'L81-W2.recipient.frag.bed.gz', 'L59-M12.donor.frag.bed.gz', 'L59-M12.recipient.frag.bed.gz', 'L81-D2-1.donor.frag.bed.gz', 'L81-D2-1.recipient.frag.bed.gz', 'L34-M2-5.donor.frag.bed.gz', 'L34-M2-5.recipient.frag.bed.gz', 'L35-W2.donor.frag.bed.gz', 'L35-W2.recipient.frag.bed.gz', 'L58-M3.donor.frag.bed.gz', 'L58-M3.recipient.frag.bed.gz', 'L81-M3.donor.frag.bed.gz', 'L81-M3.recipient.frag.bed.gz', 'L69-M6.donor.frag.bed.gz', 'L69-M6.recipient.frag.bed.gz', 'L28-M3.donor.frag.bed.gz', 'L28-M3.recipient.frag.bed.gz', 'L16-M23.donor.frag.bed.gz', 'L16-M23.recipient.frag.bed.gz', 'L74-W1.donor.frag.bed.gz', 'L74-W1.recipient.frag.bed.gz', 'L57-M1.donor.frag.bed.gz', 'L57-M1.recipient.frag.bed.gz', 'L68-M12.donor.frag.bed.gz', 'L68-M12.recipient.frag.bed.gz', 'L49-M14-5.donor.frag.bed.gz', 'L49-M14-5.recipient.frag.bed.gz', 'L59-M2-5.donor.frag.bed.gz', 'L59-M2-5.recipient.frag.bed.gz', 'L59-M6.donor.frag.bed.gz', 'L59-M6.recipient.frag.bed.gz', 'L30-M2.donor.frag.bed.gz', 'L30-M2.recipient.frag.bed.gz', 'L30-M1-25.donor.frag.bed.gz', 'L30-M1-25.recipient.frag.bed.gz', 'L49-M16.donor.frag.bed.gz', 'L49-M16.recipient.frag.bed.gz', 'L33-M8.donor.frag.bed.gz', 'L33-M8.recipient.frag.bed.gz', 'L50-M1-5.donor.frag.bed.gz', 'L50-M1-5.recipient.frag.bed.gz', 'L77-D1-1.donor.frag.bed.gz', 'L77-D1-1.recipient.frag.bed.gz', 'L81-M2.donor.frag.bed.gz', 'L81-M2.recipient.frag.bed.gz', 'L85-M9.donor.frag.bed.gz', 'L85-M9.recipient.frag.bed.gz', 'L80-W2.donor.frag.bed.gz', 'L80-W2.recipient.frag.bed.gz', 'L36-W2.donor.frag.bed.gz', 'L36-W2.recipient.frag.bed.gz', 'L4-M25.donor.frag.bed.gz', 'L4-M25.recipient.frag.bed.gz', 'L11-M35.donor.frag.bed.gz', 'L11-M35.recipient.frag.bed.gz', 'L33-M3.donor.frag.bed.gz', 'L33-M3.recipient.frag.bed.gz', 'L50-M14.donor.frag.bed.gz', 'L50-M14.recipient.frag.bed.gz', 'L74-D2-1.donor.frag.bed.gz', 'L74-D2-1.recipient.frag.bed.gz', 'L2-M25.donor.frag.bed.gz', 'L2-M25.recipient.frag.bed.gz', 'L9b-W2.donor.frag.bed.gz', 'L9b-W2.recipient.frag.bed.gz', 'L33-M2-5.donor.frag.bed.gz', 'L33-M2-5.recipient.frag.bed.gz', 'L79-W2.donor.frag.bed.gz', 'L79-W2.recipient.frag.bed.gz', 'L77-D1-3.donor.frag.bed.gz', 'L77-D1-3.recipient.frag.bed.gz', 'L36-M3.donor.frag.bed.gz', 'L36-M3.recipient.frag.bed.gz', 'L25-M18.donor.frag.bed.gz', 'L25-M18.recipient.frag.bed.gz', 'L81-D1.1.donor.frag.bed.gz', 'L81-D1.1.recipient.frag.bed.gz', 'L69-M2.donor.frag.bed.gz', 'L69-M2.recipient.frag.bed.gz', 'L49-M9.donor.frag.bed.gz', 'L49-M9.recipient.frag.bed.gz', 'L36-M14.donor.frag.bed.gz', 'L36-M14.recipient.frag.bed.gz', 'L31-M8.donor.frag.bed.gz', 'L31-M8.recipient.frag.bed.gz', 'L82-M1-5.donor.frag.bed.gz', 'L82-M1-5.recipient.frag.bed.gz']\n",
    "filename = \"L36-M3.recipient.hdf5\"\n",
    "if filename.replace(\"hdf5\", \"frag.bed.gz\") in test_patients:\n",
    "    print(\"yes\")\n",
    "# filepath = os.path.join(dirPath, filename)\n",
    "# with h5py.File(filepath) as f:\n",
    "#     print(len(f[\"testCoords\"][:]))\n"
   ]
  },
  {
   "attachments": {},
   "cell_type": "markdown",
   "metadata": {},
   "source": [
    "**Get the number of samples in a given encoded sequence H5Y file**\n",
    "(The donor file you usually use is *L4-M36.donor.hdf5*)"
   ]
  },
  {
   "cell_type": "code",
   "execution_count": 19,
   "metadata": {},
   "outputs": [
    {
     "name": "stdout",
     "output_type": "stream",
     "text": [
      "samples size is (248644, 370, 4) and labels length is (248644, 1)\n",
      "Num postives 124322 and num negatives 124322 and total :: 248644\n"
     ]
    }
   ],
   "source": [
    "sampleType = \"validation\"\n",
    "filePath = \"/hpc/compgen/projects/fragclass/analysis/mvivekanandan/output/encodedSequenceOutputs/validation_encoded_sequence_final_halfmil.hdf5\"\n",
    "numSamples = 0\n",
    "list_files = []\n",
    "\n",
    "with h5py.File(filePath, 'r') as f:\n",
    "    samples = f[f\"{sampleType}EncodedSequence\"][:]\n",
    "    labels = f[f\"{sampleType}Labels\"][:]\n",
    "    print(f\"samples size is {samples.shape} and labels length is {labels.shape}\")\n",
    "    pos = len(np.where(labels == 1)[0])\n",
    "    neg = len(np.where(labels == 0)[0])\n",
    "\n",
    "    print(f\"Num postives {pos} and num negatives {neg} and total :: {pos + neg}\")\n",
    "\n"
   ]
  },
  {
   "cell_type": "markdown",
   "metadata": {},
   "source": [
    "**Get the number of samples, positives and negatives for an Enformer output H5PY file**"
   ]
  },
  {
   "cell_type": "code",
   "execution_count": 17,
   "metadata": {},
   "outputs": [
    {
     "name": "stdout",
     "output_type": "stream",
     "text": [
      "labels size is (248644, 1)\n",
      "Num postives 124322 and num negatives 124322 and total :: 248644\n"
     ]
    }
   ],
   "source": [
    "sampleType = \"validation\"\n",
    "filePath = f\"/hpc/compgen/projects/fragclass/analysis/mvivekanandan/output/EnformerOutputs/validation_model_halfmil_attempt_2.hdf5\"\n",
    "numSamples = 0\n",
    "list_files = []\n",
    "\n",
    "with h5py.File(filePath, 'r') as f:\n",
    "    labels = f[f\"{sampleType}Labels\"][:]\n",
    "    # samples = f[f\"{sampleType}EnformerOutput\"][0:10]\n",
    "    print(f\"labels size is {labels.shape}\")\n",
    "    pos = len(np.where(labels == 1)[0])\n",
    "    neg = len(np.where(labels == 0)[0])\n",
    "    # print(labels[0:20])\n",
    "\n",
    "    print(f\"Num postives {pos} and num negatives {neg} and total :: {pos + neg}\")"
   ]
  },
  {
   "cell_type": "code",
   "execution_count": 13,
   "metadata": {},
   "outputs": [
    {
     "name": "stdout",
     "output_type": "stream",
     "text": [
      "[[1.]\n",
      " [0.]\n",
      " [1.]\n",
      " [1.]\n",
      " [1.]\n",
      " [1.]\n",
      " [0.]\n",
      " [1.]\n",
      " [1.]\n",
      " [1.]]\n",
      "[[1.]\n",
      " [0.]\n",
      " [1.]\n",
      " [1.]\n",
      " [1.]\n",
      " [1.]\n",
      " [0.]\n",
      " [1.]\n",
      " [1.]\n",
      " [1.]]\n"
     ]
    }
   ],
   "source": [
    "sampleType = \"training\"\n",
    "encoded_file = \"/hpc/compgen/projects/fragclass/analysis/mvivekanandan/output/encodedSequenceOutputs/trainig_encoded_sequence_final_half_mil.hdf5\"\n",
    "enformer_file = f\"/hpc/compgen/projects/fragclass/analysis/mvivekanandan/output/EnformerOutputs/training_model_halfmil_attempt_2.hdf5\"\n",
    "\n",
    "with h5py.File(encoded_file, 'r') as f:\n",
    "    encoded_labels = f[f\"{sampleType}Labels\"][:]\n",
    "\n",
    "with h5py.File(enformer_file, 'r') as f:\n",
    "    enformer_labels = f[f\"{sampleType}Labels\"][:]\n",
    "\n",
    "print(encoded_labels[0:10])\n",
    "print(enformer_labels[0:10])\n"
   ]
  },
  {
   "attachments": {},
   "cell_type": "markdown",
   "metadata": {},
   "source": [
    "**Get a count of the number of samples for which sequence length is not the expected one (196607 * 4)**\n",
    "1. Fetch the coordinates from original unimputed bed files. \n",
    "2. Get the extended coordinates for enformer. \n",
    "2. Get the sequence for the extended coordiantes from the reference genome. "
   ]
  },
  {
   "cell_type": "code",
   "execution_count": null,
   "metadata": {},
   "outputs": [],
   "source": [
    "inputBedFilesDirectory = \"/hpc/compgen/projects/gw_cfdna/raw/external_data_haizi/unimputed\"\n",
    "problemCount = 0\n",
    "columnNames  = [\"#chrom\", \"start\", \"end\", \"read_id\", \"mapq\", \"cigar1\", \"cigar2\"]\n",
    "referenceGenome = pysam.FastaFile(arguments[\"refGenomePath\"])\n",
    "\n",
    "count = 0\n",
    "for file in os.listdir(inputBedFilesDirectory):\n",
    "    probCountFile = 0\n",
    "    count = count + 1\n",
    "    filename = os.fsencode(file).decode(\"utf-8\")\n",
    "    print(f\"Processing file count {count} and filename {filename}\")\n",
    "    filepath = os.path.join(inputBedFilesDirectory, filename)\n",
    "    cfdna_frag_df = pd.read_csv(filepath, sep = \"\\t\", names = columnNames, skiprows=11)\n",
    "\n",
    "    #If this string conversion is not done, for some files, #chrom till 14 are not strings. This creates problems while \n",
    "    #matching to the string chromosomes from the all_samples_df\n",
    "    cfdna_frag_df[\"#chrom\"]= cfdna_frag_df[\"#chrom\"].map(str)\n",
    "\n",
    "    for index, row in cfdna_frag_df.iterrows():\n",
    "        coord = (row[0], row[1], row[2])\n",
    "        (x, y, z, isProb) = utils.getCoordsForEnformer(coord, referenceGenome)\n",
    "\n",
    "        if isProb:\n",
    "            probCountFile = probCountFile + 1\n",
    "                \n",
    "    print(f\"For file {filename}, problem count is {probCountFile}\")\n",
    "    problemCount = probCountFile + problemCount\n",
    "    if count % 50 == 0:\n",
    "        print(f\"Processed till file {count}, the problemCount is {problemCount}\")\n",
    "\n",
    "print(f\"The final problem count is {problemCount}\")\n",
    "    "
   ]
  },
  {
   "attachments": {},
   "cell_type": "markdown",
   "metadata": {},
   "source": [
    "**Get the one hot encoded sequence for a particular index in the coordinates H5PY file**\n",
    "(Used for checking if everything is okay with this particular index)"
   ]
  },
  {
   "cell_type": "code",
   "execution_count": null,
   "metadata": {},
   "outputs": [],
   "source": [
    "path = \"/hpc/compgen/projects/fragclass/analysis/mvivekanandan/output/classBalancedCoordinates/L41-M27.donor.hdf5\"\n",
    "refGenomePath = \"/hpc/compgen/projects/fragclass/raw/hg19_genome/hg19_ch1-22_XYM.fa\"\n",
    "with h5py.File(path, 'r') as f:\n",
    "    #the index with the boundary condition is 856\n",
    "    data = f[arguments[\"trainingCoords\"]][2488]\n",
    "    print(data)\n",
    "    sequence, bins = utils.getOneHotEncodedSequenceFromCoordinates(data, refGenomePath, 215)\n",
    "    print(sequence.shape)"
   ]
  },
  {
   "attachments": {},
   "cell_type": "markdown",
   "metadata": {},
   "source": [
    "**Read an Enformer output H5PY file and get the number of samples and labels**"
   ]
  },
  {
   "cell_type": "code",
   "execution_count": null,
   "metadata": {},
   "outputs": [],
   "source": [
    "sampleType = \"validation\"\n",
    "fileName = \"/hpc/compgen/projects/fragclass/analysis/mvivekanandan/output/EnformerOutputs/training_final_model_500k\"\n",
    "with h5py.File(fileName, 'r') as f:\n",
    "    # fullData = f[f'{sampleType}EnformerOutput'][:]\n",
    "    # dataToPrint = fullData[0:10, 0:10]\n",
    "    # print(f\"Printing shape of data {fullData.shape}\\n\")\n",
    "    # print(f\"Printing some data {dataToPrint}\")\n",
    "\n",
    "    fullLabels = f[f'{sampleType}Labels'][:]\n",
    "    labelsToPrint = fullLabels[0:10, 0:10]\n",
    "    print(f\"Printing shape of labels {fullLabels.shape}\\n\")\n",
    "    print(f\"Printing some of the labels {labelsToPrint}\")\n",
    "    pos = len(np.where(fullLabels == 1)[0])\n",
    "    neg = len(np.where(fullLabels == 0)[0])\n",
    "\n",
    "    print(f\"Positives: {pos} and Negatives: {neg}\")\n"
   ]
  },
  {
   "attachments": {},
   "cell_type": "markdown",
   "metadata": {},
   "source": [
    "**Read Enformer output H5PY file, round off all values in it and rewrite it to a new file**"
   ]
  },
  {
   "cell_type": "code",
   "execution_count": null,
   "metadata": {},
   "outputs": [],
   "source": [
    "filePath = \"/hpc/compgen/projects/fragclass/analysis/mvivekanandan/output/enformer_output_validation_270000.hdf5\"\n",
    "enformerOutputDatasetName = \"validationEnformerOutput\"\n",
    "labelsDatasetName = \"validationLabels\"\n",
    "\n",
    "with h5py.File(filePath, 'r') as f:\n",
    "    trainingSamples = f[enformerOutputDatasetName][:]\n",
    "    trainingLabels = f[labelsDatasetName][:]\n",
    "\n",
    "print(\"Finished reading the file\")\n",
    "#Round off the training samples and write to a new file. \n",
    "numSamples = len(trainingSamples)\n",
    "print(f\"Number of samples read is {numSamples}\")\n",
    "enformerOutputFilePath = \"/hpc/compgen/projects/fragclass/analysis/mvivekanandan/output/enformer_output_validation_rounded_270000.hdf5\"\n",
    "trainingSamples = np.around(trainingSamples, decimals = 3)\n",
    "numEnformerOuputSingleSample = 2 * 5313\n",
    "\n",
    "#Create files and create datasets. \n",
    "h5_file = h5py.File(enformerOutputFilePath, \"w-\")\n",
    "h5_file.create_dataset(enformerOutputDatasetName,  (numSamples, numEnformerOuputSingleSample),\n",
    "                                    compression=\"gzip\", compression_opts=8, chunks = (200, numEnformerOuputSingleSample))\n",
    "h5_file.create_dataset(labelsDatasetName, (numSamples, 1), compression=\"gzip\", compression_opts=8, chunks = (200, 1))\n",
    "\n",
    "#Store the samples with indices to the created file and datasets \n",
    "print(f\"Size of enformer output to store is {trainingSamples.shape}\")\n",
    "h5_file[enformerOutputDatasetName][(0):(numSamples),:] = trainingSamples\n",
    "h5_file[labelsDatasetName][(0):(numSamples),:] = trainingLabels\n",
    "h5_file.close()"
   ]
  },
  {
   "attachments": {},
   "cell_type": "markdown",
   "metadata": {},
   "source": [
    "**Get the number of positive and negative samples in the enformer output file**"
   ]
  },
  {
   "cell_type": "code",
   "execution_count": null,
   "metadata": {},
   "outputs": [],
   "source": [
    "importlib.reload(config)\n",
    "\n",
    "arguments = {}\n",
    "sampleType = \"validation\"\n",
    "filePath = \"/hpc/compgen/projects/fragclass/analysis/mvivekanandan/output/EnformerOutputs/enformer_output_validation_smaller_subset_ver_2.hdf5\"\n",
    "\n",
    "with h5py.File(filePath, 'r') as f:\n",
    "    labels = f[f\"{sampleType}Labels\"][:]\n",
    "    labels = labels.flatten()\n",
    "    print(len(labels))\n",
    "    positives = len(np.where(labels == 1)[0])\n",
    "    negatives = len(np.where(labels == 0)[0])\n",
    "    print(f\"Positives ::: {positives}, Negatives ::: {negatives}, Total ::: {positives + negatives}\")\n"
   ]
  },
  {
   "attachments": {},
   "cell_type": "markdown",
   "metadata": {},
   "source": [
    "**Get the sample count of each coordinates file and print a set of files for which sum of samples add upto the specified maximum sample count**"
   ]
  },
  {
   "cell_type": "code",
   "execution_count": null,
   "metadata": {},
   "outputs": [],
   "source": [
    "coordinate_files_dir = \"/hpc/compgen/projects/fragclass/analysis/mvivekanandan/output/coordinateFiles\"\n",
    "\n",
    "total_samples = 0\n",
    "max_sample_count = 3000000\n",
    "filenames_list = []\n",
    "\n",
    "for file in os.listdir(coordinate_files_dir):\n",
    "    filename = os.fsencode(file).decode(\"utf-8\")\n",
    "    filepath = os.path.join(coordinate_files_dir, filename)\n",
    "    with h5py.File(filepath, 'r') as f:\n",
    "        train_data_length = len(f['trainingLabels'][:])\n",
    "        print(f\"Train data length for file {filename} is {train_data_length}\")\n",
    "        total_samples = total_samples + train_data_length\n",
    "        filenames_list.append(filename)\n",
    "        if(total_samples > max_sample_count):\n",
    "            print(f\"Total samples is {total_samples} and it exceeded {max_sample_count}\")\n",
    "            break\n",
    "\n",
    "print(f\"total samples is {total_samples}\")\n",
    "print(f\"Filenames list is {filenames_list}\")\n",
    "    "
   ]
  },
  {
   "attachments": {},
   "cell_type": "markdown",
   "metadata": {},
   "source": [
    "**Get the maximum and the minimum length of the cfDNA fragments in a directory**"
   ]
  },
  {
   "cell_type": "code",
   "execution_count": null,
   "metadata": {},
   "outputs": [],
   "source": [
    "coordinate_files_dir = \"/hpc/compgen/projects/fragclass/analysis/mvivekanandan/output/biggerSubsetClassBalancedCoordinateFiles\"\n",
    "biggest = 0\n",
    "for file in os.listdir(coordinate_files_dir):\n",
    "    filepath = os.path.join(coordinate_files_dir, file)\n",
    "    with h5py.File(filepath, \"r\") as f:\n",
    "        all_coords = f[arguments[\"trainingCoords\"]][:]\n",
    "        for coord in all_coords:\n",
    "            length = int(coord[2]) - int(coord[1])\n",
    "            if(length > biggest):\n",
    "                biggest = length\n",
    "\n",
    "print(f\"Biggest size is {biggest}\")\n",
    "        \n"
   ]
  },
  {
   "cell_type": "code",
   "execution_count": null,
   "metadata": {},
   "outputs": [],
   "source": [
    "csv_file = \"/hpc/compgen/projects/fragclass/analysis/mvivekanandan/output/performanceMetrics/07_06_16_12_46_training.csv\"\n",
    "df = pd.read_csv(csv_file)\n",
    "df.head()"
   ]
  },
  {
   "cell_type": "code",
   "execution_count": null,
   "metadata": {},
   "outputs": [],
   "source": [
    "#The labels were \"0\" for donor and \"1\" for recipient. The precision recall and other measures for low positive samples \n",
    "#work best when the donors are positives and recipient is negative (since the number of donor samples is much lower than the recipients)\n",
    "#Iterate through the enformer output file and convert all 0 labels to 1 and vice versa. \n",
    "new_enformer_output_file = \"/hpc/compgen/projects/fragclass/analysis/mvivekanandan/output/EnformerOutputs/enformer_output_validation_270000.hdf5\"\n",
    "old_enformer_output_file = \"/hpc/compgen/projects/fragclass/analysis/mvivekanandan/output/EnformerOutputs/enformer_output_validation_270000_wrong_labels.hdf5\"\n",
    "enformerOutputDatasetName = \"validationEnformerOutput\"\n",
    "labelsDatasetName = \"validationLabels\"\n",
    "\n",
    "#get the data from the previous file and fix length variables\n",
    "with h5py.File(old_enformer_output_file, \"r\") as f:\n",
    "    labels = f[labelsDatasetName][:]\n",
    "    data = f[enformerOutputDatasetName][:]\n",
    "\n",
    "numSamples = len(labels)\n",
    "numEnformerOuputSingleSample = 5313 * 2\n",
    "print(f\"Num samples is {numSamples}\")\n",
    "\n",
    "donorIndices = np.where(labels == 0)[0]\n",
    "recipIndices = np.where(labels == 1)[0]\n",
    "\n",
    "labels[donorIndices] = 1\n",
    "labels[recipIndices] = 0\n",
    "\n",
    "# Create the dataset in the new file\n",
    "h5_file = h5py.File(new_enformer_output_file, \"w-\")\n",
    "h5_file.create_dataset(enformerOutputDatasetName,  (numSamples, numEnformerOuputSingleSample),\n",
    "                                    compression=\"gzip\", compression_opts=8, chunks = (200, numEnformerOuputSingleSample))\n",
    "h5_file.create_dataset(labelsDatasetName, (numSamples, 1), compression=\"gzip\", compression_opts=8, chunks = (200, 1))\n",
    "\n",
    "h5_file[enformerOutputDatasetName][0:numSamples,:] = data\n",
    "h5_file[labelsDatasetName][0:numSamples,:] = labels\n",
    "h5_file.close()"
   ]
  },
  {
   "attachments": {},
   "cell_type": "markdown",
   "metadata": {},
   "source": [
    "**Take an existing Enformer output file, remove some samples from the dominant class such that the number of positives and negatives are now equal. Store the balanced samples into a new Enformer output file**"
   ]
  },
  {
   "cell_type": "code",
   "execution_count": null,
   "metadata": {},
   "outputs": [],
   "source": [
    "importlib.reload(config)\n",
    "\n",
    "arguments = {}\n",
    "trainFilePath = config.filePaths.get(\"testTrainingEnformerOutputStoreFile\")\n",
    "validationFilePath = config.filePaths.get(\"testValidationEnformerOutputStoreFile\")\n",
    "\n",
    "with h5py.File(validationFilePath, 'r') as f:\n",
    "    trainLabels = f[\"validationLabels\"][:]\n",
    "    print(f\"The total number of samples in the file {trainLabels.shape}\")\n",
    "    trainData = f[\"validationEnformerOutput\"][:]\n",
    "\n",
    "positive_indices = np.where(trainLabels == 1)[0]\n",
    "num_donors = len(positive_indices)\n",
    "print(f\"Number of positives in the file is {num_donors}\")\n",
    "negative_indices = np.where(trainLabels == 0)[0][:num_donors]\n",
    "\n",
    "all_labels = np.vstack((trainLabels[positive_indices], trainLabels[negative_indices]))\n",
    "all_data = np.vstack((trainData[positive_indices], trainData[negative_indices]))\n",
    "print(f\"The shape of all the labels and all the data is {all_labels.shape} and {all_data.shape}\")\n",
    "\n",
    "#Write the balanced data into another h5py file\n",
    "toWriteTrainEnformerOutputPath = \"/hpc/compgen/projects/fragclass/analysis/mvivekanandan/output/EnformerOutputs/enformer_output_training_270000_class_balanced\"\n",
    "toWriteValidationEnformerOutputPath = \"/hpc/compgen/projects/fragclass/analysis/mvivekanandan/output/EnformerOutputs/enformer_output_validation_270000_class_balanced\"\n",
    "\n",
    "#Write train data\n",
    "enformerOutputDatasetName = \"validationEnformerOutput\"\n",
    "labelsDatasetName = \"validationLabels\"\n",
    "numSamples = num_donors * 2\n",
    "numEnformerOuputSingleSample = 10626\n",
    "\n",
    "#Create H5PY file and create the dataset\n",
    "h5_file = h5py.File(toWriteValidationEnformerOutputPath, \"w-\")\n",
    "h5_file.create_dataset(enformerOutputDatasetName,  (numSamples, numEnformerOuputSingleSample),\n",
    "                                    compression=\"gzip\", compression_opts=8, chunks = (200, numEnformerOuputSingleSample))\n",
    "h5_file.create_dataset(labelsDatasetName, (numSamples, 1), compression=\"gzip\", compression_opts=8, chunks = (200, 1))\n",
    "\n",
    "#write the output to h5py file\n",
    "endIndex = 0 + num_donors*2\n",
    "h5_file[enformerOutputDatasetName][(0):(endIndex),:] = all_data\n",
    "h5_file[labelsDatasetName][(0):(endIndex),:] = all_labels\n",
    "\n",
    "h5_file.close()\n"
   ]
  },
  {
   "attachments": {},
   "cell_type": "markdown",
   "metadata": {},
   "source": [
    "**Copy some samples from enformer output file to another file**"
   ]
  },
  {
   "cell_type": "code",
   "execution_count": null,
   "metadata": {},
   "outputs": [],
   "source": [
    "old_file_path = \"/hpc/compgen/projects/fragclass/analysis/mvivekanandan/output/EnformerOutputs/enformer_output_training_class_balanced.hdf5\"\n",
    "new_file_path = \"/hpc/compgen/projects/fragclass/analysis/mvivekanandan/output/EnformerOutputs/enformer_output_class_balanced_first_one_mil.hdf5\"\n",
    "\n",
    "new_h5_file = h5py.File(new_file_path, \"w-\")\n",
    "enformerOutputDatasetName = \"trainingEnformerOutput\"\n",
    "labelsDatasetName = \"trainingLabels\"\n",
    "\n",
    "numSamples = 1023232\n",
    "numEnformerOuputSingleSample = 2*5313\n",
    "\n",
    "new_h5_file.create_dataset(enformerOutputDatasetName,  (numSamples, numEnformerOuputSingleSample),\n",
    "                                    compression=\"gzip\", compression_opts=8, chunks = (200, numEnformerOuputSingleSample))\n",
    "new_h5_file.create_dataset(labelsDatasetName,  (numSamples, 1),\n",
    "                                    compression=\"gzip\", compression_opts=8, chunks = (200, 1))\n",
    "\n",
    "with h5py.File(old_file_path, 'r') as f:\n",
    "    #250000 - 500000\n",
    "    enformerData1 = f[enformerOutputDatasetName][0:250000]\n",
    "    labels1 = f[labelsDatasetName][0:250000]\n",
    "\n",
    "    new_h5_file[enformerOutputDatasetName][0:250000, :] = enformerData1\n",
    "    new_h5_file[labelsDatasetName][0:250000, :] = labels1\n",
    "\n",
    "    #250000 - 500000\n",
    "    enformerData2 = f[enformerOutputDatasetName][250000:500000]\n",
    "    labels2 = f[labelsDatasetName][250000:500000]\n",
    "\n",
    "    new_h5_file[enformerOutputDatasetName][250000:500000, :] = enformerData2\n",
    "    new_h5_file[labelsDatasetName][250000:500000, :] = labels2\n",
    "\n",
    "    #500000 - 750000\n",
    "    enformerData3 = f[enformerOutputDatasetName][500000:750000]\n",
    "    labels3 = f[labelsDatasetName][500000:750000]\n",
    "\n",
    "    new_h5_file[enformerOutputDatasetName][500000:750000, :] = enformerData3\n",
    "    new_h5_file[labelsDatasetName][500000:750000, :] = labels3\n",
    "\n",
    "    #750000 - 1000000\n",
    "    enformerData4 = f[enformerOutputDatasetName][750000:1000000]\n",
    "    labels4 = f[labelsDatasetName][750000:1000000]\n",
    "\n",
    "    new_h5_file[enformerOutputDatasetName][750000:1000000, :] = enformerData4\n",
    "    new_h5_file[labelsDatasetName][750000:1000000, :] = labels4\n",
    "\n",
    "    #1000000 - 1023232\n",
    "    enformerData5 = f[enformerOutputDatasetName][1000000:1023232]\n",
    "    labels5 = f[labelsDatasetName][1000000:1023232]\n",
    "\n",
    "    new_h5_file[enformerOutputDatasetName][1000000:1023232, :] = enformerData5\n",
    "    new_h5_file[labelsDatasetName][1000000:1023232, :] = labels5\n",
    "\n",
    "\n",
    "new_h5_file.close()"
   ]
  },
  {
   "attachments": {},
   "cell_type": "markdown",
   "metadata": {},
   "source": [
    "**Shuffle samples in a file**"
   ]
  },
  {
   "cell_type": "code",
   "execution_count": 17,
   "metadata": {},
   "outputs": [],
   "source": [
    "sampleType = \"validation\"\n",
    "enformer_file = f\"/hpc/compgen/projects/fragclass/analysis/mvivekanandan/output/EnformerOutputs/validation_final_model_125k_non_shuffled.hdf5\"\n",
    "new_h5_file_path = f\"/hpc/compgen/projects/fragclass/analysis/mvivekanandan/output/EnformerOutputs/validation_final_model_125k.hdf5\"\n",
    "\n",
    "new_h5_file = h5py.File(new_h5_file_path, \"w-\")\n",
    "\n",
    "with h5py.File(enformer_file, 'r') as f:\n",
    "    numSamples = len(f[f\"{sampleType}Labels\"][:])\n",
    "\n",
    "enformerOutputDatasetName = f\"{sampleType}EnformerOutput\"\n",
    "labelsDatasetName = f\"{sampleType}Labels\"\n",
    "\n",
    "numEnformerOuputSingleSample = 2*5313\n",
    "\n",
    "new_h5_file.create_dataset(enformerOutputDatasetName,  (numSamples, numEnformerOuputSingleSample),\n",
    "                                    compression=\"gzip\", compression_opts=8, chunks = (200, numEnformerOuputSingleSample))\n",
    "new_h5_file.create_dataset(labelsDatasetName,  (numSamples, 1),\n",
    "                                    compression=\"gzip\", compression_opts=8, chunks = (200, 1))\n",
    "\n",
    "with h5py.File(enformer_file, 'r') as f:\n",
    "    labels = f[labelsDatasetName][:]\n",
    "    enformerOutput = f[enformerOutputDatasetName][:]\n",
    "    np.random.seed(42)\n",
    "    np.random.shuffle(enformerOutput)\n",
    "    np.random.seed(42)\n",
    "    np.random.shuffle(labels)\n",
    "\n",
    "new_h5_file[enformerOutputDatasetName][0:numSamples, :] = enformerOutput\n",
    "new_h5_file[labelsDatasetName][0:numSamples, :] = labels\n",
    "\n",
    "new_h5_file.close()\n",
    "\n",
    "# indices = list(range(0, numSamples))\n",
    "# random.shuffle(indices)\n",
    "# with h5py.File(enformer_file, 'r') as f:\n",
    "#     indices1 = sort(indices[0:5000])\n",
    "#     labels1 = f[labelsDatasetName][indices1]\n",
    "#     enformerOutput1 = f[enformerOutputDatasetName][indices1]\n",
    "    \n",
    "#     new_h5_file[enformerOutputDatasetName][0:5000, :] = enformerOutput1\n",
    "#     new_h5_file[labelsDatasetName][0:5000, :] = labels1\n",
    "\n",
    "#     #-----\n",
    "#     indices2 = sort(indices[5000:10000])\n",
    "#     labels2 = f[labelsDatasetName][indices2]\n",
    "#     enformerOutput2 = f[enformerOutputDatasetName][indices2]\n",
    "    \n",
    "#     new_h5_file[enformerOutputDatasetName][5000:10000, :] = enformerOutput2\n",
    "#     new_h5_file[labelsDatasetName][5000:10000, :] = labels2\n",
    "\n",
    "#     #-----\n",
    "#     indices3 = sort(indices[10000:15000])\n",
    "#     labels3 = f[labelsDatasetName][indices3]\n",
    "#     enformerOutput3 = f[enformerOutputDatasetName][indices3]\n",
    "    \n",
    "#     new_h5_file[enformerOutputDatasetName][10000:15000, :] = enformerOutput3\n",
    "#     new_h5_file[labelsDatasetName][10000:15000, :] = labels3\n",
    "\n",
    "#     #-----\n",
    "#     indices4 = sort(indices[15000:numSamples])\n",
    "#     labels4 = f[labelsDatasetName][indices4]\n",
    "#     enformerOutput4 = f[enformerOutputDatasetName][indices4]\n",
    "    \n",
    "#     new_h5_file[enformerOutputDatasetName][15000:numSamples, :] = enformerOutput4\n",
    "#     new_h5_file[labelsDatasetName][15000:numSamples, :] = labels4"
   ]
  },
  {
   "attachments": {},
   "cell_type": "markdown",
   "metadata": {},
   "source": [
    "**Get the maximum value of the indexInFile column in the enformer metadata file**"
   ]
  },
  {
   "cell_type": "code",
   "execution_count": null,
   "metadata": {},
   "outputs": [],
   "source": [
    "enformerMetadataFile = \"/hpc/compgen/projects/fragclass/analysis/mvivekanandan/output/metadataFiles/validation_metadata_smaller_subset_ver_2.csv\"\n",
    "coordStoreDir = \"/hpc/compgen/projects/fragclass/analysis/mvivekanandan/output/subsetClassBalancedCoordinateFiles\"\n",
    "indices_list = []\n",
    "def convert_index_to_int(str_index):\n",
    "    return int(str_index[str_index.find(\"(\")+1: str_index.find(\")\")])\n",
    "\n",
    "df = pd.read_csv(enformerMetadataFile, sep = \"\\t\", names=[\"og_file\", \"indexInFile\"], skiprows=1)\n",
    "print(f\"Number of entries in the CSV file: {len(df)}\")\n",
    "df[\"indexInFile\"] = df[\"indexInFile\"].apply(convert_index_to_int)\n",
    "index_max = df[\"indexInFile\"].idxmax()\n",
    "val_max = df[\"indexInFile\"].max()\n",
    "og_file = df[\"og_file\"].iloc[index_max]\n",
    "\n",
    "#The metadata df has the entire path according to old coordinate directory. Get filename and new filepath acc. to new location\n",
    "filename = os.path.basename(og_file)\n",
    "\n",
    "print(f\"Index is {val_max} and filename is {filename}\")\n"
   ]
  },
  {
   "cell_type": "markdown",
   "metadata": {},
   "source": [
    "**Get unique patients list**"
   ]
  },
  {
   "cell_type": "code",
   "execution_count": null,
   "metadata": {},
   "outputs": [],
   "source": [
    "import os\n",
    "dirPath = \"/hpc/compgen/projects/gw_cfdna/raw/external_data_haizi/unimputed\"\n",
    "names = []\n",
    "for filename in os.listdir(dirPath):\n",
    "    names.append(filename.split(\"-\")[0])\n",
    "\n",
    "unique_names = set(names)\n",
    "print(len(unique_names))"
   ]
  },
  {
   "cell_type": "code",
   "execution_count": null,
   "metadata": {},
   "outputs": [],
   "source": [
    "inputBedFilesDirectory = \"/hpc/compgen/projects/gw_cfdna/raw/external_data_haizi/unimputed\"\n",
    "donor_count = 0\n",
    "recipient_count = 0\n",
    "columnNames  = [\"#chrom\", \"start\", \"end\", \"read_id\", \"mapq\", \"cigar1\", \"cigar2\"]\n",
    "referenceGenome = pysam.FastaFile(arguments[\"refGenomePath\"])\n",
    "count = 0\n",
    "\n",
    "for filename in os.listdir(inputBedFilesDirectory):\n",
    "    count = count + 1\n",
    "    print(f\"Processing file count {count} and filename {filename}\")\n",
    "    filepath = os.path.join(inputBedFilesDirectory, filename)\n",
    "    df = pd.read_csv(filepath, sep = \"\\t\", names = columnNames, skiprows=11)\n",
    "    if(\"donor\" in filename):\n",
    "        donor_count = donor_count + len(df)\n",
    "    elif(\"recipient\" in filename):\n",
    "        recipient_count = recipient_count + len(df)\n",
    "\n",
    "print(donor_count)\n",
    "print(recipient_count)"
   ]
  },
  {
   "cell_type": "markdown",
   "metadata": {},
   "source": [
    "**Get the length of the longest fragment in a coordinate file store directory**"
   ]
  },
  {
   "cell_type": "code",
   "execution_count": null,
   "metadata": {},
   "outputs": [],
   "source": [
    "dir = \"/hpc/compgen/projects/fragclass/analysis/mvivekanandan/output/trainingAndValidationCoordinateFiles\"\n",
    "\n",
    "big_length = 0\n",
    "count = 0\n",
    "\n",
    "for filename in os.listdir(dir):\n",
    "    filepath = os.path.join(dir, filename)\n",
    "    with h5py.File(filepath) as f:\n",
    "\n",
    "        # trainingSamples = f[\"trainingCoords\"][:]\n",
    "        # for coord in trainingSamples:\n",
    "        #     count = count + 1\n",
    "        #     length = int(coord[2]) - int(coord[1])\n",
    "        #     if(length > big_length):\n",
    "        #         big_length = length\n",
    "        \n",
    "        validationSamples = f[\"trainingCoords\"][:]\n",
    "        for coord in validationSamples:\n",
    "            count = count + 1\n",
    "            length = int(coord[2]) - int(coord[1])\n",
    "            if(length > big_length):\n",
    "                big_length = length\n",
    "\n",
    "print(f\"Longest : {big_length} and count : {count}\")"
   ]
  },
  {
   "cell_type": "markdown",
   "metadata": {},
   "source": [
    "**In a given coordinate directory, get the samples which are too close to the edges**"
   ]
  },
  {
   "cell_type": "code",
   "execution_count": null,
   "metadata": {},
   "outputs": [],
   "source": [
    "\n",
    "allowed_distance_from_edges = 100000\n",
    "dir_path = \"/hpc/compgen/projects/fragclass/analysis/mvivekanandan/output/trainingAndValidationExactlyClassBalanced\"\n",
    "\n",
    "refGenomePath = arguments[\"refGenomePath\"]\n",
    "refGenome = pysam.FastaFile(refGenomePath)\n",
    "\n",
    "chrom_len_map = {}\n",
    "for i in range(1, 23):\n",
    "    chrom = str(i)\n",
    "    length = refGenome.get_reference_length(\"chr\" + chrom)\n",
    "    chrom_len_map[chrom] = length\n",
    "\n",
    "length_x = refGenome.get_reference_length(\"chrX\")\n",
    "length_y = refGenome.get_reference_length(\"chrY\")\n",
    "chrom_len_map[\"X\"] = length_x\n",
    "chrom_len_map[\"Y\"] = length_y\n",
    "\n",
    "print(chrom_len_map)\n",
    "training_filename_index = {}\n",
    "valid_filename_index = {}\n",
    "\n",
    "for filename in os.listdir(dir_path):\n",
    "    filepath = os.path.join(dir_path, filename)\n",
    "    with h5py.File(filepath, 'r') as f:\n",
    "        coords = f[\"trainingCoords\"][:]\n",
    "        for i in range(len(coords)):\n",
    "            x, y, z = coords[i]\n",
    "            chrom = x.decode('UTF-8')\n",
    "            start = int(y)\n",
    "            end = int(z)\n",
    "            if(start < allowed_distance_from_edges):\n",
    "                print(f\"Start {start} for filename {filename} and index {i} is not proper\")\n",
    "            if(end >=  chrom_len_map[chrom] - allowed_distance_from_edges):\n",
    "                print(f\"End {end} for filename {filename} and index {i} is not proper\")\n",
    "                if filename not in training_filename_index:\n",
    "                    training_filename_index[filename] = []\n",
    "                training_filename_index[filename].append(i)\n",
    "        \n",
    "\n",
    "        valid_coords = f[\"validationCoords\"][:]\n",
    "        for i in range(len(valid_coords)):\n",
    "            x, y, z = valid_coords[i]\n",
    "            chrom = x.decode('UTF-8')\n",
    "            start = int(y)\n",
    "            end = int(z)\n",
    "            if(start < allowed_distance_from_edges):\n",
    "                print(f\"Start {start} for filename {filename} and index {i} is not proper\")\n",
    "            if(end >=  chrom_len_map[chrom] - allowed_distance_from_edges):\n",
    "                print(f\"End {end} for filename {filename} and index {i} is not proper\")\n",
    "                if filename not in valid_filename_index:\n",
    "                    valid_filename_index[filename] = []\n",
    "                valid_filename_index[filename].append(i)\n",
    "\n",
    "print(training_filename_index)\n",
    "print(valid_filename_index)"
   ]
  },
  {
   "cell_type": "markdown",
   "metadata": {},
   "source": [
    "**Go through the coordinate file directory, copy only samples that are not in the edges to another directory**\n",
    "**This was created because the coordinate directory I created had some samples which were close to the ends (even though this condition was applied while creating these files). so we need to remove the problematic samples, easiest way is to create a new folder and copy over only the non-problematic samples**\n",
    "\n",
    "**The samples indices which don't follow the rules are copied into a dict along with their fileames in the previous cell**\n"
   ]
  },
  {
   "cell_type": "code",
   "execution_count": null,
   "metadata": {},
   "outputs": [],
   "source": [
    "arguments = {}\n",
    "arguments['coordStoreDirectory'] = config.filePaths.get(\"coordStoreDirectory\")\n",
    "arguments[\"trainingCoordsDatasetName\"] = config.datasetNames.get(\"trainingCoords\")\n",
    "arguments[\"validationCoordsDatasetName\"] = config.datasetNames.get(\"validationCoords\")\n",
    "arguments[\"trainingLabelsDatasetName\"] = config.datasetNames.get(\"trainingLabels\")\n",
    "arguments[\"validationLabelsDatasetName\"] = config.datasetNames.get(\"validationLabels\")\n",
    "\n",
    "\n",
    "dir_path = \"/hpc/compgen/projects/fragclass/analysis/mvivekanandan/output/trainingAndValidationExactlyClassBalancedWithEndFragments\"\n",
    "new_dir_path = \"/hpc/compgen/projects/fragclass/analysis/mvivekanandan/output/trainingAndValidationExactlyClassBalanced\"\n",
    "\n",
    "for filename in os.listdir(dir_path):\n",
    "    print(f\"Processing filename {filename}\")\n",
    "    filepath = os.path.join(dir_path, filename)\n",
    "    with h5py.File(filepath, 'r') as f:\n",
    "        training_samples = f[arguments[\"trainingCoordsDatasetName\"]][:]\n",
    "        valid_samples = f[arguments[\"validationCoordsDatasetName\"]][:]\n",
    "        trainingLabels = f[arguments[\"trainingLabelsDatasetName\"]][:]\n",
    "        validationLabels = f[arguments[\"validationLabelsDatasetName\"]][:]\n",
    "    \n",
    "    train_df = pd.DataFrame(data = training_samples, columns = [\"chrom\", \"start\", \"end\"])\n",
    "    valid_df = pd.DataFrame(data = valid_samples, columns = [\"chrom\", \"start\", \"end\"])\n",
    "\n",
    "    # print(f\"For filename {filename}, before dropping train_df {len(train_df)}, valid_df: {len(valid_df)}\")\n",
    "    if filename in training_filename_index:\n",
    "        train_df = train_df.drop(training_filename_index[filename])\n",
    "    \n",
    "    if filename in valid_filename_index:\n",
    "        valid_df = valid_df.drop(valid_filename_index[filename])\n",
    "    \n",
    "    train_df.reset_index(inplace=True, drop=True)\n",
    "    valid_df.reset_index(inplace=True, drop=True)\n",
    "    # print(f\"For filename {filename}, after dropping train_df {len(train_df)}, valid_df: {len(valid_df)}\")\n",
    "\n",
    "    new_file_path = os.path.join(new_dir_path, filename)\n",
    "    with h5py.File(new_file_path, 'w') as h5_file:\n",
    "        print(f\"Writing into filename: {new_file_path}\")\n",
    "        h5_file.create_dataset(arguments[\"trainingCoordsDatasetName\"], data=train_df.astype(str).to_numpy(), compression = \"gzip\", compression_opts=9)\n",
    "        h5_file.create_dataset(arguments[\"trainingLabelsDatasetName\"], data=trainingLabels, compression = \"gzip\", compression_opts=9)\n",
    "        h5_file.create_dataset(arguments[\"validationCoordsDatasetName\"], data=valid_df.astype(str).to_numpy(), compression = \"gzip\", compression_opts=9)\n",
    "        h5_file.create_dataset(arguments[\"validationLabelsDatasetName\"], data=validationLabels, compression = \"gzip\", compression_opts=9)"
   ]
  },
  {
   "cell_type": "markdown",
   "metadata": {},
   "source": [
    "**Randomly remove some files to bring the number of fragments from 1 Million to 500k**\n",
    "**If we remove only some patients, then the remaining 15 or so patients will have many different fragments, many will be a repeat because they were taken at different time points. This could lead to overfitting**"
   ]
  },
  {
   "cell_type": "code",
   "execution_count": null,
   "metadata": {},
   "outputs": [],
   "source": [
    "import random\n",
    "\n",
    "num_donors_remove = 1\n",
    "dir_name = \"/hpc/compgen/projects/fragclass/analysis/mvivekanandan/output/trainingAndValidationExactlyClassBalancedOneMillion\"\n",
    "\n",
    "donors_list = []\n",
    "# for filename in os.listdir(dir_name):\n",
    "#     if \"recipient\" in filename: continue\n",
    "#     donors_list.append(filename)\n",
    "\n",
    "# print(f\"Num donors: {len(donors_list)}\")\n",
    "\n",
    "# indices_to_remove = random.sample(range(0, len(donors_list)), num_donors_remove)\n",
    "# print(f\"Indices to remove: {indices_to_remove}\")\n",
    "\n",
    "# donors_to_remove = [donors_list[i] for i in indices_to_remove]\n",
    "# print(f\"Donots to remove : {len(donors_to_remove)}\")\n",
    "\n",
    "# for donor in donors_to_remove:\n",
    "#     donor_path = os.path.join(dir_name, donor)\n",
    "#     recip_path = donor_path.replace(\"donor\", \"recipient\")\n",
    "#     os.remove(donor_path)\n",
    "#     os.remove(recip_path)\n",
    "\n",
    "print(\"Printing the number of samples in the dir\")\n",
    "sampleType = \"training\"\n",
    "numSamples = 0\n",
    "positives = 0\n",
    "negatives = 0\n",
    "\n",
    "for filename in os.listdir(dir_name):\n",
    "    filePath = os.path.join(dir_name, filename)\n",
    "    with h5py.File(filePath, 'r') as f:\n",
    "        trainingSamples = f[f\"{sampleType}Labels\"][:]\n",
    "        numPositives = (trainingSamples == 1).sum()\n",
    "        numNegatives = (trainingSamples == 0).sum()\n",
    "        # print(f\"num positives: {numPositives}\")\n",
    "        # print(f\"num negatives: {numNegatives}\")\n",
    "\n",
    "    positives = positives + numPositives\n",
    "    negatives = negatives + numNegatives\n",
    "\n",
    "print(f\"POSITIVES: {positives} and NEGATIVES {negatives}\")\n",
    "print(f\"TOTAL : {positives + negatives}\")\n"
   ]
  },
  {
   "cell_type": "markdown",
   "metadata": {},
   "source": [
    "**Make number of samples in donor and recipient files exactly equal** \n",
    "(Sometimes, even after undersampling the recipients, after removing end fragments, splitting based on chromosomes etc the number of recipients and donors could have a slight imbalance. This biases the model, so we make eveything exactly the same)"
   ]
  },
  {
   "cell_type": "code",
   "execution_count": null,
   "metadata": {},
   "outputs": [],
   "source": [
    "import random\n",
    "\n",
    "arguments[\"trainingCoordsDatasetName\"] = config.datasetNames.get(\"trainingCoords\")\n",
    "arguments[\"validationCoordsDatasetName\"] = config.datasetNames.get(\"validationCoords\")\n",
    "arguments[\"testCoordsDatasetName\"] = config.datasetNames.get(\"testCoords\")\n",
    "arguments[\"trainingLabelsDatasetName\"] = config.datasetNames.get(\"trainingLabels\")\n",
    "arguments[\"validationLabelsDatasetName\"] = config.datasetNames.get(\"validationLabels\")\n",
    "arguments[\"testLabelsDatasetName\"] = config.datasetNames.get(\"testLabels\")\n",
    "\n",
    "def getLabelsForData(dataNumpy, label):\n",
    "    nrows, ncols = dataNumpy.shape\n",
    "    if label == 0:\n",
    "        return np.zeros(nrows).reshape(nrows, 1)\n",
    "    if label == 1:\n",
    "        return np.ones(nrows).reshape(nrows, 1)\n",
    "    else:\n",
    "        print(f\"Invalid label for data : {label}\")\n",
    "        raise SystemExit(1)\n",
    "\n",
    "\n",
    "dir_path = \"/hpc/compgen/projects/fragclass/analysis/mvivekanandan/output/trainingAndValidationCoordFilesEndFragsRemovedOneMilComplete\"\n",
    "new_dir_path = \"/hpc/compgen/projects/fragclass/analysis/mvivekanandan/output/trainingAndValidationExactlyClassBalancedOneMillion\"\n",
    "for filename in os.listdir(dir_path):\n",
    "    if \"recipient\" in filename: continue \n",
    "    donor_path = os.path.join(dir_path, filename)\n",
    "    recip_path = donor_path.replace(\"donor\", \"recipient\")\n",
    "\n",
    "    with h5py.File(donor_path, 'r') as f:\n",
    "        donor_training = f[\"trainingCoords\"][:]\n",
    "        donor_validation = f[\"validationCoords\"][:]\n",
    "    \n",
    "    with h5py.File(recip_path, 'r') as f:\n",
    "        recip_training = f[\"trainingCoords\"][:]\n",
    "        recip_validation = f[\"validationCoords\"][:]\n",
    "    \n",
    "    min_training_length = min(len(donor_training), len(recip_training))\n",
    "    min_validation_length = min(len(donor_validation), len(recip_validation))\n",
    "\n",
    "    train_indices = random.sample(range(0, min_training_length), min_training_length)\n",
    "    validation_indices = random.sample(range(0, min_validation_length), min_validation_length)\n",
    "\n",
    "    new_donor_training = donor_training[train_indices]\n",
    "    new_donor_validation= donor_validation[validation_indices]\n",
    "    new_recip_training = recip_training[train_indices]\n",
    "    new_recip_validation = recip_validation[validation_indices]\n",
    "\n",
    "    donor_training_labels = getLabelsForData(new_donor_training, 1)\n",
    "    donor_validation_labels = getLabelsForData(new_donor_validation, 1)\n",
    "    recip_training_labels = getLabelsForData(new_recip_training, 0)\n",
    "    recip_validation_labels = getLabelsForData(new_recip_validation, 0)\n",
    "\n",
    "    donor_file_name = filename\n",
    "    recip_file_name = donor_file_name.replace(\"donor\", \"recipient\")\n",
    "    new_donor_path = os.path.join(new_dir_path, donor_file_name)\n",
    "    new_recip_path = os.path.join(new_dir_path, recip_file_name)\n",
    "    print(f\"Filename: {donor_file_name} training data: {len(new_donor_training)}, training labels: {len(donor_training_labels)}, validation data: : {len(new_donor_validation)} and validation labels: {len(donor_validation_labels)}\")\n",
    "    print(f\"Filename: {recip_file_name} training data: {len(new_recip_training)}, training labels: {len(recip_training_labels)}, validation data: : {len(new_recip_validation)} and validation labels: {len(recip_validation_labels)}\")\n",
    "    \n",
    "    with h5py.File(new_donor_path, 'w') as h5_file:\n",
    "        h5_file.create_dataset(arguments[\"trainingCoordsDatasetName\"], data=new_donor_training, compression = \"gzip\", compression_opts=9)\n",
    "        h5_file.create_dataset(arguments[\"trainingLabelsDatasetName\"], data=donor_training_labels, compression = \"gzip\", compression_opts=9)\n",
    "        h5_file.create_dataset(arguments[\"validationCoordsDatasetName\"], data=new_donor_validation, compression = \"gzip\", compression_opts=9)\n",
    "        h5_file.create_dataset(arguments[\"validationLabelsDatasetName\"], data=donor_validation_labels, compression = \"gzip\", compression_opts=9)\n",
    "    \n",
    "\n",
    "    with h5py.File(new_recip_path, 'w') as h5_file:\n",
    "        h5_file.create_dataset(arguments[\"trainingCoordsDatasetName\"], data=new_recip_training, compression = \"gzip\", compression_opts=9)\n",
    "        h5_file.create_dataset(arguments[\"trainingLabelsDatasetName\"], data=recip_training_labels, compression = \"gzip\", compression_opts=9)\n",
    "        h5_file.create_dataset(arguments[\"validationCoordsDatasetName\"], data=new_recip_validation, compression = \"gzip\", compression_opts=9)\n",
    "        h5_file.create_dataset(arguments[\"validationLabelsDatasetName\"], data=recip_validation_labels, compression = \"gzip\", compression_opts=9)\n"
   ]
  },
  {
   "cell_type": "markdown",
   "metadata": {},
   "source": [
    "**Make the number of donors and recipients in Enformer output H5PY file exactly the same** (Already takes into account reading only part of the file)"
   ]
  },
  {
   "cell_type": "code",
   "execution_count": 9,
   "metadata": {},
   "outputs": [
    {
     "name": "stdout",
     "output_type": "stream",
     "text": [
      "(72127, 10626)\n",
      "(72593, 10626)\n",
      "Num donors: 72127 and num recips: 72593\n",
      "Min training length : 72127\n",
      "After sampling.. num donors: 72127 and num recips:  72127\n",
      "All indices new length: 144254\n",
      "(144254, 10626)\n",
      "(144254, 1)\n"
     ]
    }
   ],
   "source": [
    "import random\n",
    "\n",
    "sampleType = \"validation\"\n",
    "filepath = \"/hpc/compgen/projects/fragclass/analysis/mvivekanandan/output/EnformerOutputs/validation_final_model_1_mil.hdf5\"\n",
    "with h5py.File(filepath, 'r') as f:\n",
    "    samples = f[f\"{sampleType}EnformerOutput\"][0:144720]\n",
    "    labels = f[f\"{sampleType}Labels\"][0:144720]\n",
    "\n",
    "recip_indices = np.where(labels == 0)[0]\n",
    "donor_indices = np.where(labels == 1)[0]\n",
    "donors = samples[donor_indices]\n",
    "recips = samples[recip_indices]\n",
    "\n",
    "print(donors.shape)\n",
    "print(recips.shape)\n",
    "\n",
    "num_donors = len(donor_indices)\n",
    "num_recips = len(recip_indices)\n",
    "print(f\"Num donors: {num_donors} and num recips: {num_recips}\")\n",
    "min_training_length = min(num_donors, num_recips)\n",
    "print(f\"Min training length : {min_training_length}\")\n",
    "\n",
    "donor_indices_sampled = random.sample(donor_indices.tolist(), min_training_length)\n",
    "recip_indices_sampled = random.sample(recip_indices.tolist(), min_training_length)\n",
    "print(f\"After sampling.. num donors: {len(donor_indices_sampled)} and num recips:  {len(recip_indices_sampled)}\")\n",
    "\n",
    "all_indices_new = []\n",
    "all_indices_new.extend(donor_indices_sampled)\n",
    "all_indices_new.extend(recip_indices_sampled)\n",
    "print(f\"All indices new length: {len(all_indices_new)}\")\n",
    "\n",
    "samples_new = samples[all_indices_new]\n",
    "labels_new = labels[all_indices_new]\n",
    "print(samples_new.shape)\n",
    "print(labels_new.shape)\n",
    "\n",
    "new_enformer_file_path = \"/hpc/compgen/projects/fragclass/analysis/mvivekanandan/output/EnformerOutputs/validation_final_model_125k_non_shuffled.hdf5\"\n",
    "with h5py.File(new_enformer_file_path, 'w') as h5_file:\n",
    "    h5_file.create_dataset(f\"{sampleType}EnformerOutput\", data=samples_new, compression = \"gzip\", compression_opts=9, chunks = (200, 10626))\n",
    "    h5_file.create_dataset(f\"{sampleType}Labels\", data=labels_new, compression = \"gzip\", compression_opts=9, chunks = (200, 1))"
   ]
  },
  {
   "cell_type": "markdown",
   "metadata": {},
   "source": [
    "**Plot confusion matrix from TP, FP, TN and FN**"
   ]
  },
  {
   "cell_type": "code",
   "execution_count": 2,
   "metadata": {},
   "outputs": [
    {
     "data": {
      "image/png": "[encoded data removed]",
      "text/plain": [
       "<Figure size 640x480 with 2 Axes>"
      ]
     },
     "metadata": {},
     "output_type": "display_data"
    }
   ],
   "source": [
    "cf_matrix = np.array([[33784, 26425], [32215, 27751]])\n",
    "cf_matrix = np.array([[62549, 71773], [58346, 65976]])\n",
    "group_names = [\"True Neg\",\"False Pos\",\"False Neg\",\"True Pos\"]\n",
    "group_counts = [\"{0:0.0f}\".format(value) for value in cf_matrix.flatten()]\n",
    "group_percentages = [\"{0:.2%}\".format(value) for value in cf_matrix.flatten()/np.sum(cf_matrix)]\n",
    "cf_matrix_labels    = [f\"{v1}\\n{v2}\\n{v3}\" for v1, v2, v3 in zip(group_names,group_counts,group_percentages)]\n",
    "cf_matrix_labels = np.asarray(cf_matrix_labels).reshape(2,2)\n",
    "    \n",
    "s = sns.heatmap(cf_matrix, annot=cf_matrix_labels, fmt = '', cmap=\"Blues\", annot_kws={\"fontsize\":12})\n",
    "s.set_xticklabels([\"Recipient\", \"Donor\"])\n",
    "s.set_yticklabels([\"Recipient\", \"Donor\"])\n",
    "\n",
    "s.set_xlabel(\"Predicted Label\", fontsize=12, labelpad=10)\n",
    "s.set_ylabel(\"True Label\", fontsize=12, labelpad=10)\n",
    "plt.title(\"Training set confusion matrix\")\n",
    "plt.show()"
   ]
  },
  {
   "cell_type": "code",
   "execution_count": 3,
   "metadata": {},
   "outputs": [
    {
     "name": "stdout",
     "output_type": "stream",
     "text": [
      "102\n"
     ]
    }
   ],
   "source": [
    "dir = \"/hpc/compgen/projects/fragclass/analysis/mvivekanandan/output/latestTestCoordinateFiles\"\n",
    "print(len(os.listdir(dir)))"
   ]
  },
  {
   "cell_type": "code",
   "execution_count": 1,
   "metadata": {},
   "outputs": [
    {
     "name": "stdout",
     "output_type": "stream",
     "text": [
      "['L80-W2.donor.hdf5', 'L80-W2.recipient.hdf5', 'L68-M12.donor.hdf5', 'L68-M12.recipient.hdf5', 'L81-M2.donor.hdf5', 'L81-M2.recipient.hdf5', 'L9b-W2.donor.hdf5', 'L9b-W2.recipient.hdf5', 'L82-M1-5.donor.hdf5', 'L82-M1-5.recipient.hdf5', 'L81-D1.1.donor.hdf5', 'L81-D1.1.recipient.hdf5', 'L77-D1-3.donor.hdf5', 'L77-D1-3.recipient.hdf5', 'L33-M3.donor.hdf5', 'L33-M3.recipient.hdf5', 'L5-M13_5.donor.hdf5', 'L5-M13_5.recipient.hdf5', 'L33-M8.donor.hdf5', 'L33-M8.recipient.hdf5', 'L34-M6.donor.hdf5', 'L34-M6.recipient.hdf5', 'L16-M23.donor.hdf5', 'L16-M23.recipient.hdf5', 'L59-M6.donor.hdf5', 'L59-M6.recipient.hdf5', 'L35-W2.donor.hdf5', 'L35-W2.recipient.hdf5', 'L33-M2-5.donor.hdf5', 'L33-M2-5.recipient.hdf5', 'L2-M25.donor.hdf5', 'L2-M25.recipient.hdf5', 'L69-M6.donor.hdf5', 'L69-M6.recipient.hdf5', 'L81-M3.donor.hdf5', 'L81-M3.recipient.hdf5', 'L69-M2.donor.hdf5', 'L69-M2.recipient.hdf5', 'L30-M2.donor.hdf5', 'L30-M2.recipient.hdf5', 'L74-D2-1.donor.hdf5', 'L74-D2-1.recipient.hdf5']\n"
     ]
    }
   ],
   "source": [
    "list = [\"L36-M3.recipient.hdf5\",\"L33-M8.recipient.hdf5\", \"L80-W2.donor.hdf5\",\"L79-W2.donor.hdf5\",\"L68-M12.donor.hdf5\",\"L77-D1-1.donor.hdf5\",\"L81-M2.donor.hdf5\",\"L58-M3.recipient.hdf5\",\"L59-M12.recipient.hdf5\",\"L9b-W2.donor.hdf5\",\"L81-M2.recipient.hdf5\",\"L82-M1-5.donor.hdf5\",\"L74-W1.donor.hdf5\",\"L81-D1.1.donor.hdf5\",\"L16-M23.recipient.hdf5\",\"L1-M13.recipient.hdf5\",\"L77-D1-3.donor.hdf5\",\"L33-M3.recipient.hdf5\",\"L85-M9.donor.hdf5\",\"L34-M6.recipient.hdf5\",\"L33-M3.donor.hdf5\",\"L81-D2-1.recipient.hdf5\",\"L81-W2.recipient.hdf5\",\"L5-M13_5.donor.hdf5\",\"L33-M8.donor.hdf5\",\"L34-M6.donor.hdf5\",\"L77-D1-3.recipient.hdf5\",\"L16-M23.donor.hdf5\",\"L49-M14-5.recipient.hdf5\",\"L59-M6.donor.hdf5\",\"L81-D1.1.recipient.hdf5\",\"L49-M14.recipient.hdf5\",\"L35-W2.donor.hdf5\",\"L59-M2-5.recipient.hdf5\",\"L30-M2.recipient.hdf5\",\"L33-M2-5.recipient.hdf5\",\"L74-D2-1.recipient.hdf5\",\"L33-M2-5.donor.hdf5\",\"L2-M25.donor.hdf5\",\"L68-M12.recipient.hdf5\",\"L69-M6.donor.hdf5\",\"L49-M9.donor.hdf5\",\"L35-W2.recipient.hdf5\",\"L4-M25.recipient.hdf5\",\"L74-D2-2.donor.hdf5\",\"L81-M3.donor.hdf5\",\"L79-M6-1.donor.hdf5\",\"L9b-W2.recipient.hdf5\",\"L69-M6.recipient.hdf5\",\"L80-W2.recipient.hdf5\",\"L82-M1-5.recipient.hdf5\",\"L69-M2.donor.hdf5\",\"L30-M2.donor.hdf5\",\"L69-M2.recipient.hdf5\",\"L5-M13_5.recipient.hdf5\",\"L81-M3.recipient.hdf5\",\"L74-D2-1.donor.hdf5\",\"L11-M35.recipient.hdf5\",\"L2-M25.recipient.hdf5\",\"L36-W2.donor.hdf5\",\"L31-M8.recipient.hdf5\",\"L59-M6.recipient.hdf5\",\"L25-M18.recipient.hdf5\"]\n",
    "new_list = []\n",
    "for filename in list:\n",
    "    if \"recipient\" in filename: continue\n",
    "    recip_file = filename.replace(\"donor\", \"recipient\")\n",
    "    if(recip_file in list):\n",
    "        new_list.append(filename)\n",
    "        new_list.append(recip_file)\n",
    "\n",
    "print(new_list)"
   ]
  }
 ],
 "metadata": {
  "kernelspec": {
   "display_name": "fragenv",
   "language": "python",
   "name": "python3"
  },
  "language_info": {
   "codemirror_mode": {
    "name": "ipython",
    "version": 3
   },
   "file_extension": ".py",
   "mimetype": "text/x-python",
   "name": "python",
   "nbconvert_exporter": "python",
   "pygments_lexer": "ipython3",
   "version": "3.10.9"
  },
  "orig_nbformat": 4
 },
 "nbformat": 4,
 "nbformat_minor": 2
}
